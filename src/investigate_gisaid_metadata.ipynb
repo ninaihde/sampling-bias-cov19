{
 "cells": [
  {
   "cell_type": "markdown",
   "metadata": {
    "collapsed": true,
    "pycharm": {
     "name": "#%% md\n"
    }
   },
   "source": [
    "# GISAID Metadata - Investigation\n",
    "## Conversion from JSON to TSV"
   ]
  },
  {
   "cell_type": "code",
   "execution_count": 2,
   "outputs": [
    {
     "name": "stdout",
     "output_type": "stream",
     "text": [
      "dict_keys(['covv_accession_id', 'covv_clade', 'covv_collection_date', 'covsurver_prot_mutations', 'covsurver_uniquemutlist', 'covv_orig_lab', 'covv_passage', 'covv_subm_lab', 'gc_content', 'covv_host', 'is_high_coverage', 'is_reference', 'is_complete', 'covv_lineage', 'pangolin_lineages_version', 'covv_location', 'n_content', 'sequence_length', 'covv_subm_date', 'covv_type', 'covv_variant'])\n"
     ]
    }
   ],
   "source": [
    "import json\n",
    "\n",
    "# Show available columns\n",
    "with open('../data/gisaid.json') as f:\n",
    "    print(json.loads(f.readline()).keys())"
   ],
   "metadata": {
    "collapsed": false,
    "pycharm": {
     "name": "#%%\n"
    }
   }
  },
  {
   "cell_type": "code",
   "execution_count": 28,
   "outputs": [
    {
     "name": "stdout",
     "output_type": "stream",
     "text": [
      "6984464\n"
     ]
    }
   ],
   "source": [
    "with open('../data/gisaid.json', 'r') as json_file:\n",
    "    print(sum(1 for line in json_file))  # 6984464 samples found -> used as n_lines in cell below"
   ],
   "metadata": {
    "collapsed": false,
    "pycharm": {
     "name": "#%%\n"
    }
   }
  },
  {
   "cell_type": "code",
   "execution_count": null,
   "outputs": [],
   "source": [
    "import json\n",
    "import csv\n",
    "\n",
    "fail = 0\n",
    "with open('../data/gisaid.json', 'r', encoding='utf-8') as json_file:\n",
    "  with open('../data/gisaid_metadata.tsv', 'w') as tsv_file:\n",
    "\n",
    "    n_lines = 6984464\n",
    "    for i in range(n_lines):\n",
    "      # Read one key-value object per line\n",
    "      obj = json.loads(json_file.readline())\n",
    "\n",
    "      # For first object, take keys as header for TSV\n",
    "      if i == 0:\n",
    "        dw = csv.DictWriter(tsv_file, obj.keys(), delimiter='\\t')\n",
    "        dw.writeheader()\n",
    "\n",
    "      try:\n",
    "        # For each object, append its values as new row to TSV\n",
    "        dw.writerow(obj)\n",
    "      except UnicodeEncodeError:\n",
    "        # If UnicodeEncodeError occurs, ignore row\n",
    "        fail += 1\n",
    "        continue\n",
    "\n",
    "print(fail)  # -> 34,699 rows have thrown UnicodeEncodeError"
   ],
   "metadata": {
    "collapsed": false,
    "pycharm": {
     "name": "#%%\n"
    }
   }
  },
  {
   "cell_type": "code",
   "execution_count": 1,
   "outputs": [
    {
     "name": "stdout",
     "output_type": "stream",
     "text": [
      "<class 'dask.dataframe.core.DataFrame'>\n",
      "Columns: 21 entries, covv_accession_id to covv_variant\n",
      "dtypes: object(15), bool(3), float64(2), int64(1)"
     ]
    }
   ],
   "source": [
    "import dask.dataframe as dd\n",
    "\n",
    "gisaid_metadata = dd.read_csv('../data/gisaid_metadata.tsv', encoding='iso-8859-1', delimiter='\\t')\n",
    "gisaid_metadata.info()  # -> 21 columns: 15 string, 3 bool, 2 float & 1 integer"
   ],
   "metadata": {
    "collapsed": false,
    "pycharm": {
     "name": "#%%\n"
    }
   }
  },
  {
   "cell_type": "code",
   "execution_count": 39,
   "outputs": [
    {
     "data": {
      "text/plain": "6949765"
     },
     "execution_count": 39,
     "metadata": {},
     "output_type": "execute_result"
    }
   ],
   "source": [
    "len(gisaid_metadata)\n",
    "# -> 6,949,765 rows\n",
    "# -> 34,699 rows missing due to UnicodeEncodeError"
   ],
   "metadata": {
    "collapsed": false,
    "pycharm": {
     "name": "#%%\n"
    }
   }
  },
  {
   "cell_type": "code",
   "execution_count": 40,
   "outputs": [
    {
     "data": {
      "text/plain": "  covv_accession_id covv_clade covv_collection_date  \\\n0   EPI_ISL_1989555         GR           2021-03-21   \n1   EPI_ISL_2183215        GRY           2021-04-25   \n2   EPI_ISL_3028444         GK           2021-07-14   \n3   EPI_ISL_2183216        GRY           2021-05-10   \n4   EPI_ISL_3721606         GH           2021-07-09   \n\n                            covsurver_prot_mutations  \\\n0  (Spike_K417T,Spike_N501Y,NSP12_P323L,NSP3_S370...   \n1  (Spike_N501Y,NSP12_P323L,NSP6_G107del,NSP3_A89...   \n2  (Spike_P681R,N_D63G,NS7a_V82A,NSP12_P323L,NSP1...   \n3  (Spike_N501Y,NSP8_Q24R,NSP12_P323L,NSP13_K460R...   \n4  (Spike_R346K,Spike_Y145N,NSP3_T237A,Spike_N501...   \n\n                covsurver_uniquemutlist  \\\n0                                   NaN   \n1                                   NaN   \n2  (NSP12_L838I,NS7a_V82A,N_D63G,N_Q9L)   \n3                          (NSP3_K394R)   \n4                          (NSP12_L65S)   \n\n                                       covv_orig_lab covv_passage  \\\n0                   Medical Laboratories Duesseldorf     Original   \n1                 Israel Central Virology laboratory     Original   \n2  Department of Bacteria, Parasites and Fungi, S...     Original   \n3                  Laboratory Corporation of America     Original   \n4                                      ICMT-Apartado     Original   \n\n                                       covv_subm_lab  gc_content covv_host  \\\n0  Center of Medical Microbiology, Virology, and ...    0.380387     Human   \n1  Israel National Consortium for SARS-CoV-2 sequ...    0.379828     Human   \n2  Statens Serum Institut  Bioinformatics and Mic...    0.379649     Human   \n3  Centers for Disease Control and Prevention   D...    0.379973     Human   \n4  Universidad Nacional de Colombia - Laboratorio...    0.379718     Human   \n\n   ...  is_reference  is_complete  covv_lineage pangolin_lineages_version  \\\n0  ...         False         True        P.1.15                2022-01-05   \n1  ...         False         True       B.1.1.7                2022-01-05   \n2  ...         False         True         AY.43                2022-01-05   \n3  ...         False         True       B.1.1.7                2022-01-05   \n4  ...         False         True       B.1.621                2022-01-05   \n\n                                     covv_location n_content  sequence_length  \\\n0        Europe / Germany / North Rhine-Westphalia  0.038961            29773   \n1                         Asia / Israel / Southern  0.019734            29847   \n2                   Europe / Denmark / Hovedstaden  0.000000            29769   \n3                   North America / USA / Virginia  0.000000            29760   \n4  South America / Colombia / Antioquia / Apartado  0.012592            29781   \n\n   covv_subm_date        covv_type  \\\n0      2021-05-10  betacoronavirus   \n1      2021-05-20  betacoronavirus   \n2      2021-07-21  betacoronavirus   \n3      2021-05-20  betacoronavirus   \n4      2021-08-27  betacoronavirus   \n\n                                        covv_variant  \n0  VOC Gamma GR/501Y.V3 (P.1+P.1.x) first detecte...  \n1  VOC Alpha 202012/01 GRY (B.1.1.7+Q.x) first de...  \n2  VOC Delta GK/478K.V1 (B.1.617.2+AY.x) first de...  \n3  VOC Alpha 202012/01 GRY (B.1.1.7+Q.x) first de...  \n4  VOI Mu GH (B.1.621+B.1.621.1) first detected i...  \n\n[5 rows x 21 columns]",
      "text/html": "<div>\n<style scoped>\n    .dataframe tbody tr th:only-of-type {\n        vertical-align: middle;\n    }\n\n    .dataframe tbody tr th {\n        vertical-align: top;\n    }\n\n    .dataframe thead th {\n        text-align: right;\n    }\n</style>\n<table border=\"1\" class=\"dataframe\">\n  <thead>\n    <tr style=\"text-align: right;\">\n      <th></th>\n      <th>covv_accession_id</th>\n      <th>covv_clade</th>\n      <th>covv_collection_date</th>\n      <th>covsurver_prot_mutations</th>\n      <th>covsurver_uniquemutlist</th>\n      <th>covv_orig_lab</th>\n      <th>covv_passage</th>\n      <th>covv_subm_lab</th>\n      <th>gc_content</th>\n      <th>covv_host</th>\n      <th>...</th>\n      <th>is_reference</th>\n      <th>is_complete</th>\n      <th>covv_lineage</th>\n      <th>pangolin_lineages_version</th>\n      <th>covv_location</th>\n      <th>n_content</th>\n      <th>sequence_length</th>\n      <th>covv_subm_date</th>\n      <th>covv_type</th>\n      <th>covv_variant</th>\n    </tr>\n  </thead>\n  <tbody>\n    <tr>\n      <th>0</th>\n      <td>EPI_ISL_1989555</td>\n      <td>GR</td>\n      <td>2021-03-21</td>\n      <td>(Spike_K417T,Spike_N501Y,NSP12_P323L,NSP3_S370...</td>\n      <td>NaN</td>\n      <td>Medical Laboratories Duesseldorf</td>\n      <td>Original</td>\n      <td>Center of Medical Microbiology, Virology, and ...</td>\n      <td>0.380387</td>\n      <td>Human</td>\n      <td>...</td>\n      <td>False</td>\n      <td>True</td>\n      <td>P.1.15</td>\n      <td>2022-01-05</td>\n      <td>Europe / Germany / North Rhine-Westphalia</td>\n      <td>0.038961</td>\n      <td>29773</td>\n      <td>2021-05-10</td>\n      <td>betacoronavirus</td>\n      <td>VOC Gamma GR/501Y.V3 (P.1+P.1.x) first detecte...</td>\n    </tr>\n    <tr>\n      <th>1</th>\n      <td>EPI_ISL_2183215</td>\n      <td>GRY</td>\n      <td>2021-04-25</td>\n      <td>(Spike_N501Y,NSP12_P323L,NSP6_G107del,NSP3_A89...</td>\n      <td>NaN</td>\n      <td>Israel Central Virology laboratory</td>\n      <td>Original</td>\n      <td>Israel National Consortium for SARS-CoV-2 sequ...</td>\n      <td>0.379828</td>\n      <td>Human</td>\n      <td>...</td>\n      <td>False</td>\n      <td>True</td>\n      <td>B.1.1.7</td>\n      <td>2022-01-05</td>\n      <td>Asia / Israel / Southern</td>\n      <td>0.019734</td>\n      <td>29847</td>\n      <td>2021-05-20</td>\n      <td>betacoronavirus</td>\n      <td>VOC Alpha 202012/01 GRY (B.1.1.7+Q.x) first de...</td>\n    </tr>\n    <tr>\n      <th>2</th>\n      <td>EPI_ISL_3028444</td>\n      <td>GK</td>\n      <td>2021-07-14</td>\n      <td>(Spike_P681R,N_D63G,NS7a_V82A,NSP12_P323L,NSP1...</td>\n      <td>(NSP12_L838I,NS7a_V82A,N_D63G,N_Q9L)</td>\n      <td>Department of Bacteria, Parasites and Fungi, S...</td>\n      <td>Original</td>\n      <td>Statens Serum Institut  Bioinformatics and Mic...</td>\n      <td>0.379649</td>\n      <td>Human</td>\n      <td>...</td>\n      <td>False</td>\n      <td>True</td>\n      <td>AY.43</td>\n      <td>2022-01-05</td>\n      <td>Europe / Denmark / Hovedstaden</td>\n      <td>0.000000</td>\n      <td>29769</td>\n      <td>2021-07-21</td>\n      <td>betacoronavirus</td>\n      <td>VOC Delta GK/478K.V1 (B.1.617.2+AY.x) first de...</td>\n    </tr>\n    <tr>\n      <th>3</th>\n      <td>EPI_ISL_2183216</td>\n      <td>GRY</td>\n      <td>2021-05-10</td>\n      <td>(Spike_N501Y,NSP8_Q24R,NSP12_P323L,NSP13_K460R...</td>\n      <td>(NSP3_K394R)</td>\n      <td>Laboratory Corporation of America</td>\n      <td>Original</td>\n      <td>Centers for Disease Control and Prevention   D...</td>\n      <td>0.379973</td>\n      <td>Human</td>\n      <td>...</td>\n      <td>False</td>\n      <td>True</td>\n      <td>B.1.1.7</td>\n      <td>2022-01-05</td>\n      <td>North America / USA / Virginia</td>\n      <td>0.000000</td>\n      <td>29760</td>\n      <td>2021-05-20</td>\n      <td>betacoronavirus</td>\n      <td>VOC Alpha 202012/01 GRY (B.1.1.7+Q.x) first de...</td>\n    </tr>\n    <tr>\n      <th>4</th>\n      <td>EPI_ISL_3721606</td>\n      <td>GH</td>\n      <td>2021-07-09</td>\n      <td>(Spike_R346K,Spike_Y145N,NSP3_T237A,Spike_N501...</td>\n      <td>(NSP12_L65S)</td>\n      <td>ICMT-Apartado</td>\n      <td>Original</td>\n      <td>Universidad Nacional de Colombia - Laboratorio...</td>\n      <td>0.379718</td>\n      <td>Human</td>\n      <td>...</td>\n      <td>False</td>\n      <td>True</td>\n      <td>B.1.621</td>\n      <td>2022-01-05</td>\n      <td>South America / Colombia / Antioquia / Apartado</td>\n      <td>0.012592</td>\n      <td>29781</td>\n      <td>2021-08-27</td>\n      <td>betacoronavirus</td>\n      <td>VOI Mu GH (B.1.621+B.1.621.1) first detected i...</td>\n    </tr>\n  </tbody>\n</table>\n<p>5 rows × 21 columns</p>\n</div>"
     },
     "execution_count": 40,
     "metadata": {},
     "output_type": "execute_result"
    }
   ],
   "source": [
    "gisaid_metadata.head()"
   ],
   "metadata": {
    "collapsed": false,
    "pycharm": {
     "name": "#%%\n"
    }
   }
  },
  {
   "cell_type": "code",
   "execution_count": 43,
   "outputs": [
    {
     "data": {
      "text/plain": "      covv_accession_id covv_clade covv_collection_date  \\\n52806   EPI_ISL_2183210          G           2021-04-25   \n52807   EPI_ISL_2183211        GRY           2021-05-10   \n52808   EPI_ISL_2183212        GRY           2021-04-25   \n52809   EPI_ISL_2183213        GRY           2021-05-10   \n52810   EPI_ISL_2183214          G           2021-04-25   \n\n                                covsurver_prot_mutations  \\\n52806  (Spike_N501Y,NSP1_V84del,NSP12_P323L,NSP1_H83d...   \n52807  (N_A208del,Spike_N501Y,N_M210del,NSP2_P106T,NS...   \n52808  (Spike_N501Y,NSP12_P323L,NSP6_G107del,NSP3_A89...   \n52809  (NS3_H78Y,Spike_N501Y,NSP4_S41I,NSP12_P323L,NS...   \n52810  (Spike_N501Y,Spike_S221L,NSP12_P323L,NSP6_G107...   \n\n      covsurver_uniquemutlist                       covv_orig_lab  \\\n52806                     NaN  Israel Central Virology laboratory   \n52807            (NSP3_F800L)   Laboratory Corporation of America   \n52808                     NaN  Israel Central Virology laboratory   \n52809             (NSP4_S40T)   Laboratory Corporation of America   \n52810                     NaN  Israel Central Virology laboratory   \n\n      covv_passage                                      covv_subm_lab  \\\n52806     Original  Israel National Consortium for SARS-CoV-2 sequ...   \n52807     Original  Centers for Disease Control and Prevention   D...   \n52808     Original  Israel National Consortium for SARS-CoV-2 sequ...   \n52809     Original  Centers for Disease Control and Prevention   D...   \n52810     Original  Israel National Consortium for SARS-CoV-2 sequ...   \n\n       gc_content covv_host  ...  is_reference  is_complete  covv_lineage  \\\n52806    0.378747     Human  ...         False         True       B.1.1.7   \n52807    0.379867     Human  ...         False         True       B.1.1.7   \n52808    0.379340     Human  ...         False         True       B.1.1.7   \n52809    0.379774     Human  ...         False         True       B.1.1.7   \n52810    0.378643     Human  ...         False         True       B.1.1.7   \n\n      pangolin_lineages_version                   covv_location n_content  \\\n52806                2022-01-05  Asia / Israel / Southern Coast  0.009143   \n52807                2022-01-05  North America / USA / Virginia  0.000000   \n52808                2022-01-05  Asia / Israel / Southern Coast  0.000368   \n52809                2022-01-05  North America / USA / Virginia  0.000000   \n52810                2022-01-05  Asia / Israel / Southern Coast  0.009180   \n\n       sequence_length  covv_subm_date        covv_type  \\\n52806            29860      2021-05-20  betacoronavirus   \n52807            29742      2021-05-20  betacoronavirus   \n52808            29876      2021-05-20  betacoronavirus   \n52809            29665      2021-05-20  betacoronavirus   \n52810            29848      2021-05-20  betacoronavirus   \n\n                                            covv_variant  \n52806  VOC Alpha 202012/01 GRY (B.1.1.7+Q.x) first de...  \n52807  VOC Alpha 202012/01 GRY (B.1.1.7+Q.x) first de...  \n52808  VOC Alpha 202012/01 GRY (B.1.1.7+Q.x) first de...  \n52809  VOC Alpha 202012/01 GRY (B.1.1.7+Q.x) first de...  \n52810  VOC Alpha 202012/01 GRY (B.1.1.7+Q.x) first de...  \n\n[5 rows x 21 columns]",
      "text/html": "<div>\n<style scoped>\n    .dataframe tbody tr th:only-of-type {\n        vertical-align: middle;\n    }\n\n    .dataframe tbody tr th {\n        vertical-align: top;\n    }\n\n    .dataframe thead th {\n        text-align: right;\n    }\n</style>\n<table border=\"1\" class=\"dataframe\">\n  <thead>\n    <tr style=\"text-align: right;\">\n      <th></th>\n      <th>covv_accession_id</th>\n      <th>covv_clade</th>\n      <th>covv_collection_date</th>\n      <th>covsurver_prot_mutations</th>\n      <th>covsurver_uniquemutlist</th>\n      <th>covv_orig_lab</th>\n      <th>covv_passage</th>\n      <th>covv_subm_lab</th>\n      <th>gc_content</th>\n      <th>covv_host</th>\n      <th>...</th>\n      <th>is_reference</th>\n      <th>is_complete</th>\n      <th>covv_lineage</th>\n      <th>pangolin_lineages_version</th>\n      <th>covv_location</th>\n      <th>n_content</th>\n      <th>sequence_length</th>\n      <th>covv_subm_date</th>\n      <th>covv_type</th>\n      <th>covv_variant</th>\n    </tr>\n  </thead>\n  <tbody>\n    <tr>\n      <th>52806</th>\n      <td>EPI_ISL_2183210</td>\n      <td>G</td>\n      <td>2021-04-25</td>\n      <td>(Spike_N501Y,NSP1_V84del,NSP12_P323L,NSP1_H83d...</td>\n      <td>NaN</td>\n      <td>Israel Central Virology laboratory</td>\n      <td>Original</td>\n      <td>Israel National Consortium for SARS-CoV-2 sequ...</td>\n      <td>0.378747</td>\n      <td>Human</td>\n      <td>...</td>\n      <td>False</td>\n      <td>True</td>\n      <td>B.1.1.7</td>\n      <td>2022-01-05</td>\n      <td>Asia / Israel / Southern Coast</td>\n      <td>0.009143</td>\n      <td>29860</td>\n      <td>2021-05-20</td>\n      <td>betacoronavirus</td>\n      <td>VOC Alpha 202012/01 GRY (B.1.1.7+Q.x) first de...</td>\n    </tr>\n    <tr>\n      <th>52807</th>\n      <td>EPI_ISL_2183211</td>\n      <td>GRY</td>\n      <td>2021-05-10</td>\n      <td>(N_A208del,Spike_N501Y,N_M210del,NSP2_P106T,NS...</td>\n      <td>(NSP3_F800L)</td>\n      <td>Laboratory Corporation of America</td>\n      <td>Original</td>\n      <td>Centers for Disease Control and Prevention   D...</td>\n      <td>0.379867</td>\n      <td>Human</td>\n      <td>...</td>\n      <td>False</td>\n      <td>True</td>\n      <td>B.1.1.7</td>\n      <td>2022-01-05</td>\n      <td>North America / USA / Virginia</td>\n      <td>0.000000</td>\n      <td>29742</td>\n      <td>2021-05-20</td>\n      <td>betacoronavirus</td>\n      <td>VOC Alpha 202012/01 GRY (B.1.1.7+Q.x) first de...</td>\n    </tr>\n    <tr>\n      <th>52808</th>\n      <td>EPI_ISL_2183212</td>\n      <td>GRY</td>\n      <td>2021-04-25</td>\n      <td>(Spike_N501Y,NSP12_P323L,NSP6_G107del,NSP3_A89...</td>\n      <td>NaN</td>\n      <td>Israel Central Virology laboratory</td>\n      <td>Original</td>\n      <td>Israel National Consortium for SARS-CoV-2 sequ...</td>\n      <td>0.379340</td>\n      <td>Human</td>\n      <td>...</td>\n      <td>False</td>\n      <td>True</td>\n      <td>B.1.1.7</td>\n      <td>2022-01-05</td>\n      <td>Asia / Israel / Southern Coast</td>\n      <td>0.000368</td>\n      <td>29876</td>\n      <td>2021-05-20</td>\n      <td>betacoronavirus</td>\n      <td>VOC Alpha 202012/01 GRY (B.1.1.7+Q.x) first de...</td>\n    </tr>\n    <tr>\n      <th>52809</th>\n      <td>EPI_ISL_2183213</td>\n      <td>GRY</td>\n      <td>2021-05-10</td>\n      <td>(NS3_H78Y,Spike_N501Y,NSP4_S41I,NSP12_P323L,NS...</td>\n      <td>(NSP4_S40T)</td>\n      <td>Laboratory Corporation of America</td>\n      <td>Original</td>\n      <td>Centers for Disease Control and Prevention   D...</td>\n      <td>0.379774</td>\n      <td>Human</td>\n      <td>...</td>\n      <td>False</td>\n      <td>True</td>\n      <td>B.1.1.7</td>\n      <td>2022-01-05</td>\n      <td>North America / USA / Virginia</td>\n      <td>0.000000</td>\n      <td>29665</td>\n      <td>2021-05-20</td>\n      <td>betacoronavirus</td>\n      <td>VOC Alpha 202012/01 GRY (B.1.1.7+Q.x) first de...</td>\n    </tr>\n    <tr>\n      <th>52810</th>\n      <td>EPI_ISL_2183214</td>\n      <td>G</td>\n      <td>2021-04-25</td>\n      <td>(Spike_N501Y,Spike_S221L,NSP12_P323L,NSP6_G107...</td>\n      <td>NaN</td>\n      <td>Israel Central Virology laboratory</td>\n      <td>Original</td>\n      <td>Israel National Consortium for SARS-CoV-2 sequ...</td>\n      <td>0.378643</td>\n      <td>Human</td>\n      <td>...</td>\n      <td>False</td>\n      <td>True</td>\n      <td>B.1.1.7</td>\n      <td>2022-01-05</td>\n      <td>Asia / Israel / Southern Coast</td>\n      <td>0.009180</td>\n      <td>29848</td>\n      <td>2021-05-20</td>\n      <td>betacoronavirus</td>\n      <td>VOC Alpha 202012/01 GRY (B.1.1.7+Q.x) first de...</td>\n    </tr>\n  </tbody>\n</table>\n<p>5 rows × 21 columns</p>\n</div>"
     },
     "execution_count": 43,
     "metadata": {},
     "output_type": "execute_result"
    }
   ],
   "source": [
    "gisaid_metadata.tail()"
   ],
   "metadata": {
    "collapsed": false,
    "pycharm": {
     "name": "#%%\n"
    }
   }
  },
  {
   "cell_type": "markdown",
   "source": [
    "## Data Cleaning"
   ],
   "metadata": {
    "collapsed": false,
    "pycharm": {
     "name": "#%% md\n"
    }
   }
  },
  {
   "cell_type": "code",
   "execution_count": 32,
   "outputs": [
    {
     "name": "stdout",
     "output_type": "stream",
     "text": [
      "4540 non-human samples removed\n"
     ]
    }
   ],
   "source": [
    "# Remove non-human hosts (39 hosts available)\n",
    "original_len = len(gisaid_metadata)\n",
    "gisaid_metadata = gisaid_metadata[gisaid_metadata['covv_host'] == 'Human']\n",
    "print(f'{original_len - len(gisaid_metadata)} non-human samples removed')  # 4,540 samples removed"
   ],
   "metadata": {
    "collapsed": false,
    "pycharm": {
     "name": "#%%\n"
    }
   }
  },
  {
   "cell_type": "markdown",
   "source": [
    "## Overview of Available Features"
   ],
   "metadata": {
    "collapsed": false,
    "pycharm": {
     "name": "#%% md\n"
    }
   }
  },
  {
   "cell_type": "code",
   "execution_count": 25,
   "outputs": [
    {
     "data": {
      "text/plain": "       covv_accession_id covv_clade covv_collection_date  \\\nunique           6945225         11                  870   \ncount            6945225    6945158              6945225   \ntop      EPI_ISL_1000000         GK                 2021   \nfreq                   1    3862210                58872   \n\n                                 covsurver_prot_mutations  \\\nunique                                            3177940   \ncount                                             6945225   \ntop     (Spike_P681R,N_D63G,NS7a_V82A,NSP12_P323L,NSP1...   \nfreq                                                34659   \n\n       covsurver_uniquemutlist                    covv_orig_lab covv_passage  \\\nunique                  152303                            20425          324   \ncount                  1642878                          6945153      6945225   \ntop         (NS7a_V82A,N_D63G)  Lighthouse Lab in Milton Keynes     Original   \nfreq                    407363                           385133      6899356   \n\n                                            covv_subm_lab covv_host  \\\nunique                                               4086         1   \ncount                                             6945224   6945225   \ntop     Wellcome Sanger Institute for the COVID-19 Gen...     Human   \nfreq                                              1200964   6945225   \n\n       is_high_coverage is_reference is_complete covv_lineage  \\\nunique                2            2           2         1578   \ncount           6945225      6945225     6945225      6945158   \ntop                True        False        True      B.1.1.7   \nfreq            4848328      6945224     6839717      1116179   \n\n       pangolin_lineages_version                      covv_location  \\\nunique                         1                              26054   \ncount                    6945222                            6945225   \ntop                   2022-01-05  Europe / United Kingdom / England   \nfreq                     6945222                            1382051   \n\n       covv_subm_date        covv_type  \\\nunique            723                1   \ncount         6945225          6945206   \ntop        2021-11-17  betacoronavirus   \nfreq            68511          6945206   \n\n                                             covv_variant  \nunique                                                 14  \ncount                                             5734408  \ntop     VOC Delta GK/478K.V1 (B.1.617.2+AY.x) first de...  \nfreq                                              3992087  ",
      "text/html": "<div>\n<style scoped>\n    .dataframe tbody tr th:only-of-type {\n        vertical-align: middle;\n    }\n\n    .dataframe tbody tr th {\n        vertical-align: top;\n    }\n\n    .dataframe thead th {\n        text-align: right;\n    }\n</style>\n<table border=\"1\" class=\"dataframe\">\n  <thead>\n    <tr style=\"text-align: right;\">\n      <th></th>\n      <th>covv_accession_id</th>\n      <th>covv_clade</th>\n      <th>covv_collection_date</th>\n      <th>covsurver_prot_mutations</th>\n      <th>covsurver_uniquemutlist</th>\n      <th>covv_orig_lab</th>\n      <th>covv_passage</th>\n      <th>covv_subm_lab</th>\n      <th>covv_host</th>\n      <th>is_high_coverage</th>\n      <th>is_reference</th>\n      <th>is_complete</th>\n      <th>covv_lineage</th>\n      <th>pangolin_lineages_version</th>\n      <th>covv_location</th>\n      <th>covv_subm_date</th>\n      <th>covv_type</th>\n      <th>covv_variant</th>\n    </tr>\n  </thead>\n  <tbody>\n    <tr>\n      <th>unique</th>\n      <td>6945225</td>\n      <td>11</td>\n      <td>870</td>\n      <td>3177940</td>\n      <td>152303</td>\n      <td>20425</td>\n      <td>324</td>\n      <td>4086</td>\n      <td>1</td>\n      <td>2</td>\n      <td>2</td>\n      <td>2</td>\n      <td>1578</td>\n      <td>1</td>\n      <td>26054</td>\n      <td>723</td>\n      <td>1</td>\n      <td>14</td>\n    </tr>\n    <tr>\n      <th>count</th>\n      <td>6945225</td>\n      <td>6945158</td>\n      <td>6945225</td>\n      <td>6945225</td>\n      <td>1642878</td>\n      <td>6945153</td>\n      <td>6945225</td>\n      <td>6945224</td>\n      <td>6945225</td>\n      <td>6945225</td>\n      <td>6945225</td>\n      <td>6945225</td>\n      <td>6945158</td>\n      <td>6945222</td>\n      <td>6945225</td>\n      <td>6945225</td>\n      <td>6945206</td>\n      <td>5734408</td>\n    </tr>\n    <tr>\n      <th>top</th>\n      <td>EPI_ISL_1000000</td>\n      <td>GK</td>\n      <td>2021</td>\n      <td>(Spike_P681R,N_D63G,NS7a_V82A,NSP12_P323L,NSP1...</td>\n      <td>(NS7a_V82A,N_D63G)</td>\n      <td>Lighthouse Lab in Milton Keynes</td>\n      <td>Original</td>\n      <td>Wellcome Sanger Institute for the COVID-19 Gen...</td>\n      <td>Human</td>\n      <td>True</td>\n      <td>False</td>\n      <td>True</td>\n      <td>B.1.1.7</td>\n      <td>2022-01-05</td>\n      <td>Europe / United Kingdom / England</td>\n      <td>2021-11-17</td>\n      <td>betacoronavirus</td>\n      <td>VOC Delta GK/478K.V1 (B.1.617.2+AY.x) first de...</td>\n    </tr>\n    <tr>\n      <th>freq</th>\n      <td>1</td>\n      <td>3862210</td>\n      <td>58872</td>\n      <td>34659</td>\n      <td>407363</td>\n      <td>385133</td>\n      <td>6899356</td>\n      <td>1200964</td>\n      <td>6945225</td>\n      <td>4848328</td>\n      <td>6945224</td>\n      <td>6839717</td>\n      <td>1116179</td>\n      <td>6945222</td>\n      <td>1382051</td>\n      <td>68511</td>\n      <td>6945206</td>\n      <td>3992087</td>\n    </tr>\n  </tbody>\n</table>\n</div>"
     },
     "execution_count": 25,
     "metadata": {},
     "output_type": "execute_result"
    }
   ],
   "source": [
    "# Get statistics of categorical columns\n",
    "gisaid_metadata.describe(include=['object', 'bool']).compute()\n",
    "\n",
    "# FINDINGS:\n",
    "# covv_variant has 14 unique values\n",
    "# sequencing reason/ keywords column don't exist but should (see GISAID upload or search area)\n",
    "\n",
    "# QUESTIONS FOR FABIO:\n",
    "# 1. Why does metadata by CovRadar API has different column names?\n",
    "# 2. Can we include sequencing reason?\n",
    "# 3. Where to find documentation?"
   ],
   "metadata": {
    "collapsed": false,
    "pycharm": {
     "name": "#%%\n"
    }
   }
  },
  {
   "cell_type": "code",
   "execution_count": 26,
   "outputs": [
    {
     "data": {
      "text/plain": "         gc_content     n_content  sequence_length\ncount  6.945225e+06  6.945225e+06     6.945225e+06\nmean   3.794622e-01  1.353829e-02     2.942621e+04\nstd    2.074926e-03  3.736357e-02     3.023512e+03\nmin    1.449275e-01  0.000000e+00     6.400000e+01\n25%    3.795258e-01  0.000000e+00     2.976800e+04\n50%    3.797201e-01  5.400510e-03     2.979900e+04\n75%    3.800570e-01  5.040092e-02     2.984200e+04\nmax    5.357143e-01  9.977176e-01     3.469200e+04",
      "text/html": "<div>\n<style scoped>\n    .dataframe tbody tr th:only-of-type {\n        vertical-align: middle;\n    }\n\n    .dataframe tbody tr th {\n        vertical-align: top;\n    }\n\n    .dataframe thead th {\n        text-align: right;\n    }\n</style>\n<table border=\"1\" class=\"dataframe\">\n  <thead>\n    <tr style=\"text-align: right;\">\n      <th></th>\n      <th>gc_content</th>\n      <th>n_content</th>\n      <th>sequence_length</th>\n    </tr>\n  </thead>\n  <tbody>\n    <tr>\n      <th>count</th>\n      <td>6.945225e+06</td>\n      <td>6.945225e+06</td>\n      <td>6.945225e+06</td>\n    </tr>\n    <tr>\n      <th>mean</th>\n      <td>3.794622e-01</td>\n      <td>1.353829e-02</td>\n      <td>2.942621e+04</td>\n    </tr>\n    <tr>\n      <th>std</th>\n      <td>2.074926e-03</td>\n      <td>3.736357e-02</td>\n      <td>3.023512e+03</td>\n    </tr>\n    <tr>\n      <th>min</th>\n      <td>1.449275e-01</td>\n      <td>0.000000e+00</td>\n      <td>6.400000e+01</td>\n    </tr>\n    <tr>\n      <th>25%</th>\n      <td>3.795258e-01</td>\n      <td>0.000000e+00</td>\n      <td>2.976800e+04</td>\n    </tr>\n    <tr>\n      <th>50%</th>\n      <td>3.797201e-01</td>\n      <td>5.400510e-03</td>\n      <td>2.979900e+04</td>\n    </tr>\n    <tr>\n      <th>75%</th>\n      <td>3.800570e-01</td>\n      <td>5.040092e-02</td>\n      <td>2.984200e+04</td>\n    </tr>\n    <tr>\n      <th>max</th>\n      <td>5.357143e-01</td>\n      <td>9.977176e-01</td>\n      <td>3.469200e+04</td>\n    </tr>\n  </tbody>\n</table>\n</div>"
     },
     "execution_count": 26,
     "metadata": {},
     "output_type": "execute_result"
    }
   ],
   "source": [
    "# Get statistics of numeric columns\n",
    "gisaid_metadata.describe(include=['float64', 'int64']).compute()"
   ],
   "metadata": {
    "collapsed": false,
    "pycharm": {
     "name": "#%%\n"
    }
   }
  },
  {
   "cell_type": "code",
   "execution_count": 2,
   "outputs": [
    {
     "data": {
      "text/plain": "VOC Delta GK/478K.V1 (B.1.617.2+AY.x) first detected in India                         3993832\nVOC Alpha 202012/01 GRY (B.1.1.7+Q.x) first detected in the UK                        1145975\nVOC Omicron GRA (B.1.1.529+BA.*) first detected in Botswana/Hong Kong/South Africa     276235\nVOC Gamma GR/501Y.V3 (P.1+P.1.x) first detected in Brazil/Japan                        120130\nVOI Epsilon GH/452R.V1 (B.1.429+B.1.427) first detected in USA/California               68180\nVOI Iota GH/253G.V1 (B.1.526) first detected in USA/New York                            42912\nVOC Beta GH/501Y.V2 (B.1.351+B.1.351.2+B.1.351.3) first detected in South Africa        41006\nVOI Mu GH (B.1.621+B.1.621.1) first detected in Colombia                                14774\nVOI Lambda GR/452Q.V1 (C.37+C.37.1) first detected in Peru                               9575\nVOI Eta G/484K.V3 (B.1.525) first detected in UK/Nigeria                                 9424\nVOI Kappa G/452R.V3 (B.1.617.1) first detected in India                                  8150\nVOI Zeta GR/484K.V2 (P.2) first detected in Brazil                                       5506\nVOI Theta GR/1092K.V1 (P.3) first detected in the Philippines                             624\nVUM GH/490R (B.1.640+B.1.640.*) first detected in Congo/France                            456\nName: covv_variant, dtype: int64"
     },
     "execution_count": 2,
     "metadata": {},
     "output_type": "execute_result"
    }
   ],
   "source": [
    "# Get value counts of virus variants\n",
    "gisaid_metadata.covv_variant.value_counts().compute()"
   ],
   "metadata": {
    "collapsed": false,
    "pycharm": {
     "name": "#%%\n"
    }
   }
  }
 ],
 "metadata": {
  "kernelspec": {
   "display_name": "Python 3",
   "language": "python",
   "name": "python3"
  },
  "language_info": {
   "codemirror_mode": {
    "name": "ipython",
    "version": 2
   },
   "file_extension": ".py",
   "mimetype": "text/x-python",
   "name": "python",
   "nbconvert_exporter": "python",
   "pygments_lexer": "ipython2",
   "version": "2.7.6"
  }
 },
 "nbformat": 4,
 "nbformat_minor": 0
}