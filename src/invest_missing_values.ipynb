{
 "cells": [
  {
   "cell_type": "markdown",
   "metadata": {
    "collapsed": true,
    "pycharm": {
     "name": "#%% md\n"
    }
   },
   "source": [
    "# EBI Metadata - Missing Values Analysis"
   ]
  },
  {
   "cell_type": "code",
   "execution_count": null,
   "outputs": [],
   "source": [
    "import pandas as pd\n",
    "\n",
    "df = pd.read_csv('../data/metadata_EBI_preprocessed.csv',\n",
    "                 dtype={'collected_by': object,\n",
    "                        'collection_date': object,\n",
    "                        'culture_collection': object,\n",
    "                        'identified_by': object,\n",
    "                        'isolate': object,\n",
    "                        'isolation_source': object,\n",
    "                        'keywords': object,\n",
    "                        'lab_host': object,\n",
    "                        'location': object,\n",
    "                        'sample_accession': object,\n",
    "                        'strain': object,\n",
    "                        'study_accession': object})"
   ],
   "metadata": {
    "collapsed": false,
    "pycharm": {
     "name": "#%%\n"
    }
   }
  },
  {
   "cell_type": "markdown",
   "source": [
    "## Dependence on Missing Values to Countries and Institutes"
   ],
   "metadata": {
    "collapsed": false,
    "pycharm": {
     "name": "#%% md\n"
    }
   }
  },
  {
   "cell_type": "code",
   "execution_count": null,
   "outputs": [],
   "source": [
    "df.isna().sum()"
   ],
   "metadata": {
    "collapsed": false,
    "pycharm": {
     "name": "#%%\n"
    }
   }
  },
  {
   "cell_type": "code",
   "execution_count": null,
   "outputs": [],
   "source": [
    "# Get names of columns with missing values\n",
    "cols_missing_vals = df.columns[df.isnull().any()]"
   ],
   "metadata": {
    "collapsed": false,
    "pycharm": {
     "name": "#%%\n"
    }
   }
  },
  {
   "cell_type": "code",
   "execution_count": null,
   "outputs": [],
   "source": [
    "import json\n",
    "\n",
    "# Load number of inhabitants per country (taken from Wikipedia)\n",
    "with open('json_data/country_inhabitants_map.json') as f:\n",
    "    country_inhabitants_map = json.load(f)"
   ],
   "metadata": {
    "collapsed": false,
    "pycharm": {
     "name": "#%%\n"
    }
   }
  },
  {
   "cell_type": "code",
   "execution_count": null,
   "outputs": [],
   "source": [
    "import matplotlib.pyplot as plt\n",
    "import seaborn as sns\n",
    "\n",
    "# Plot country distribution for each column with missing values\n",
    "for col in cols_missing_vals:\n",
    "    df_temp = df[df[col].isna()][[col, 'country']]\n",
    "\n",
    "    fig, ax = plt.subplots(figsize=(42, 22))\n",
    "    sns.countplot(data=df_temp,\n",
    "                  x='country',\n",
    "                  palette=['blue'] * len(df_temp['country']),\n",
    "                  order=df_temp['country'].value_counts().index)\n",
    "\n",
    "    fig.suptitle(f'Distribution of Countries for Rows with Missing Values in \"{col}\"', fontsize=22)\n",
    "    plt.xlabel('Country', fontsize=18)\n",
    "    plt.ylabel('Count Normalized by Number of Inhabitants', fontsize=18)\n",
    "    plt.xticks(fontsize=14, rotation=90)\n",
    "    plt.yticks(fontsize=14)\n",
    "\n",
    "    # Normalize height of bars with number of inhabitants\n",
    "    max_y = 0\n",
    "    for i, patch in enumerate(ax.patches):\n",
    "        country = ax.get_xticklabels()[i].get_text()\n",
    "        if country == 'Unknown':\n",
    "            new_height = 0.0\n",
    "        else:\n",
    "            new_height = patch.get_height() / country_inhabitants_map[country]\n",
    "\n",
    "        max_y = max(max_y, new_height)\n",
    "        patch.set_height(new_height)\n",
    "    plt.gca().set_ylim([0, max_y + (max_y / 20)])\n",
    "\n",
    "    plt.savefig(f'../plots/missing_vals/country_count_of_missing_vals_in_{col}_normalized.png', dpi=300)"
   ],
   "metadata": {
    "collapsed": false,
    "pycharm": {
     "name": "#%%\n"
    }
   }
  },
  {
   "cell_type": "code",
   "execution_count": null,
   "outputs": [],
   "source": [
    "df['collected_by'].value_counts()\n",
    "# 385 unique entries\n",
    "# -> cannot create above plots for this column (at least not out-of-the-box, would have to summarize and/or delete entries)"
   ],
   "metadata": {
    "collapsed": false,
    "pycharm": {
     "name": "#%%\n"
    }
   }
  },
  {
   "cell_type": "markdown",
   "source": [
    "## Country Cards\n",
    "\n",
    "For each country, the following code cells generate a PDF page with the number of missing values in percent for each column."
   ],
   "metadata": {
    "collapsed": false,
    "pycharm": {
     "name": "#%% md\n"
    }
   }
  },
  {
   "cell_type": "code",
   "execution_count": null,
   "outputs": [],
   "source": [
    "# TODO"
   ],
   "metadata": {
    "collapsed": false,
    "pycharm": {
     "name": "#%%\n"
    }
   }
  }
 ],
 "metadata": {
  "kernelspec": {
   "display_name": "Python 3",
   "language": "python",
   "name": "python3"
  },
  "language_info": {
   "codemirror_mode": {
    "name": "ipython",
    "version": 2
   },
   "file_extension": ".py",
   "mimetype": "text/x-python",
   "name": "python",
   "nbconvert_exporter": "python",
   "pygments_lexer": "ipython2",
   "version": "2.7.6"
  }
 },
 "nbformat": 4,
 "nbformat_minor": 0
}