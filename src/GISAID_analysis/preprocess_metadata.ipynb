{
 "cells": [
  {
   "cell_type": "markdown",
   "metadata": {
    "collapsed": true,
    "pycharm": {
     "name": "#%% md\n"
    }
   },
   "source": [
    "# GISAID Metadata - Preprocessing\n",
    "## Conversion from JSON to TSV"
   ]
  },
  {
   "cell_type": "code",
   "execution_count": 4,
   "outputs": [
    {
     "name": "stdout",
     "output_type": "stream",
     "text": [
      "dict_keys(['covv_accession_id', 'covv_clade', 'covv_collection_date', 'covsurver_prot_mutations', 'covsurver_uniquemutlist', 'covv_orig_lab', 'covv_passage', 'covv_subm_lab', 'gc_content', 'covv_host', 'is_high_coverage', 'is_reference', 'is_complete', 'covv_lineage', 'pangolin_lineages_version', 'covv_location', 'n_content', 'sequence_length', 'covv_subm_date', 'covv_type', 'covv_variant'])\n"
     ]
    }
   ],
   "source": [
    "import json\n",
    "\n",
    "# Show available columns\n",
    "with open('../../data/gisaid.json') as f:\n",
    "    print(json.loads(f.readline()).keys())"
   ],
   "metadata": {
    "collapsed": false,
    "pycharm": {
     "name": "#%%\n"
    }
   }
  },
  {
   "cell_type": "code",
   "execution_count": 1,
   "outputs": [
    {
     "name": "stdout",
     "output_type": "stream",
     "text": [
      "8102980\n"
     ]
    }
   ],
   "source": [
    "with open('../../data/gisaid.json', 'r') as json_file:\n",
    "    print(sum(1 for line in json_file))  # 8,102,980 samples found"
   ],
   "metadata": {
    "collapsed": false,
    "pycharm": {
     "name": "#%%\n"
    }
   }
  },
  {
   "cell_type": "code",
   "execution_count": 7,
   "outputs": [
    {
     "name": "stdout",
     "output_type": "stream",
     "text": [
      "50763\n"
     ]
    }
   ],
   "source": [
    "import json\n",
    "import csv\n",
    "\n",
    "error_count = 0\n",
    "\n",
    "with open('../../data/gisaid.json', 'r', encoding='utf-8') as json_file:\n",
    "  with open('../../data/gisaid_metadata.tsv', 'w') as tsv_file:\n",
    "    for i, line in enumerate(json_file):\n",
    "      # Read one key-value object per line\n",
    "      obj = json.loads(line)\n",
    "\n",
    "      # For first object, take keys as header for TSV\n",
    "      if i == 0:\n",
    "        dw = csv.DictWriter(tsv_file, obj.keys(), delimiter='\\t')\n",
    "        dw.writeheader()\n",
    "\n",
    "      try:\n",
    "        # For each object, append its values as new row to TSV\n",
    "        dw.writerow(obj)\n",
    "      except UnicodeEncodeError:\n",
    "        # If UnicodeEncodeError occurs, ignore row\n",
    "        error_count += 1\n",
    "        continue\n",
    "\n",
    "print(error_count)  # -> 50,763 rows have thrown UnicodeEncodeError"
   ],
   "metadata": {
    "collapsed": false,
    "pycharm": {
     "name": "#%%\n"
    }
   }
  },
  {
   "cell_type": "code",
   "execution_count": 12,
   "outputs": [
    {
     "name": "stderr",
     "output_type": "stream",
     "text": [
      "c:\\users\\ninai\\onedrive\\dokumente\\studium\\module\\master\\4. semester\\accountability in ai\\sampling bias\\sampling-bias-cov19\\venv\\lib\\site-packages\\dask\\dataframe\\io\\csv.py:136: DtypeWarning: Columns (20) have mixed types.Specify dtype option on import or set low_memory=False.\n",
      "  path_info,\n"
     ]
    },
    {
     "name": "stdout",
     "output_type": "stream",
     "text": [
      "<class 'pandas.core.frame.DataFrame'>\n",
      "Int64Index: 8052217 entries, 0 to 52179\n",
      "Data columns (total 21 columns):\n",
      " #   Column                     Dtype  \n",
      "---  ------                     -----  \n",
      " 0   covv_accession_id          object \n",
      " 1   covv_clade                 object \n",
      " 2   covv_collection_date       object \n",
      " 3   covsurver_prot_mutations   object \n",
      " 4   covsurver_uniquemutlist    object \n",
      " 5   covv_orig_lab              object \n",
      " 6   covv_passage               object \n",
      " 7   covv_subm_lab              object \n",
      " 8   gc_content                 float64\n",
      " 9   covv_host                  object \n",
      " 10  is_high_coverage           bool   \n",
      " 11  is_reference               bool   \n",
      " 12  is_complete                bool   \n",
      " 13  covv_lineage               object \n",
      " 14  pangolin_lineages_version  object \n",
      " 15  covv_location              object \n",
      " 16  n_content                  float64\n",
      " 17  sequence_length            int64  \n",
      " 18  covv_subm_date             object \n",
      " 19  covv_type                  object \n",
      " 20  covv_variant               object \n",
      "dtypes: bool(3), float64(2), int64(1), object(15)\n",
      "memory usage: 1.2+ GB\n"
     ]
    }
   ],
   "source": [
    "import dask.dataframe as dd\n",
    "import pandas as pd\n",
    "\n",
    "gisaid_metadata = dd.read_csv('../../data/gisaid_metadata.tsv', encoding='iso-8859-1', delimiter='\\t', dtype = {'covv_type': str})\n",
    "gisaid_metadata = gisaid_metadata.compute()\n",
    "gisaid_metadata.info()"
   ],
   "metadata": {
    "collapsed": false,
    "pycharm": {
     "name": "#%%\n"
    }
   }
  },
  {
   "cell_type": "code",
   "execution_count": 13,
   "outputs": [
    {
     "data": {
      "text/plain": "8052217"
     },
     "execution_count": 13,
     "metadata": {},
     "output_type": "execute_result"
    }
   ],
   "source": [
    "len(gisaid_metadata)\n",
    "# -> 8,052,217 rows\n",
    "# -> further 50,763 rows missing due to UnicodeEncodeError"
   ],
   "metadata": {
    "collapsed": false,
    "pycharm": {
     "name": "#%%\n"
    }
   }
  },
  {
   "cell_type": "code",
   "execution_count": 14,
   "outputs": [
    {
     "data": {
      "text/plain": "  covv_accession_id covv_clade covv_collection_date  \\\n0   EPI_ISL_4087268         GK           2021-09-02   \n1   EPI_ISL_1169235        GRY           2021-02-27   \n2   EPI_ISL_6063368         GK           2021-10-05   \n3   EPI_ISL_6928247         GK           2021-11-20   \n4   EPI_ISL_8148179         GK           2021-12-06   \n\n                            covsurver_prot_mutations covsurver_uniquemutlist  \\\n0  (M_I82T,NSP12_P323L,Spike_P681R,Spike_R158del,...                     NaN   \n1  (Spike_V70del,NSP12_P323L,Spike_D1118H,NSP3_T1...                     NaN   \n2  (M_I82T,NSP12_P323L,Spike_P681R,Spike_R158del,...                     NaN   \n3  (M_I82T,NSP12_P323L,Spike_P681R,NSP14_A344S,Sp...                     NaN   \n4  (NSP3_K839R,M_I82T,NS7a_S83L,NSP12_P323L,Spike...                     NaN   \n\n                     covv_orig_lab covv_passage  \\\n0  Lighthouse Lab in Alderley Park     Original   \n1              ASL Napoli 1 Centro     Original   \n2       Aegis Sciences Corporation     Original   \n3  Lighthouse Lab in Alderley Park     Original   \n4                         CDPH VBL     Original   \n\n                                       covv_subm_lab  gc_content covv_host  \\\n0  Wellcome Sanger Institute for the COVID-19 Gen...    0.379603     Human   \n1     AMES Centro Polidiagnostico Strumentale S.r.l.    0.379672     Human   \n2  Centers for Disease Control and Prevention   D...    0.379456     Human   \n3  Wellcome Sanger Institute for the COVID-19 Gen...    0.379375     Human   \n4             California Department of Public Health    0.379730     Human   \n\n   ...  is_reference  is_complete  covv_lineage pangolin_lineages_version  \\\n0  ...         False         True          AY.4                2022-02-02   \n1  ...         False         True       B.1.1.7                2022-02-02   \n2  ...         False         True        AY.100                2022-02-02   \n3  ...         False         True         AY.43                2022-02-02   \n4  ...         False         True        AY.103                2022-02-02   \n\n                                       covv_location n_content  \\\n0                  Europe / United Kingdom / England  0.000000   \n1                 Europe / Italy / Campania / Napoli  0.008731   \n2                        North America / USA / Texas  0.000134   \n3                  Europe / United Kingdom / England  0.060853   \n4  North America / USA / California / Alameda County  0.023005   \n\n   sequence_length  covv_subm_date        covv_type  \\\n0            29760      2021-09-11  betacoronavirus   \n1            29666      2021-03-06  betacoronavirus   \n2            29823      2021-11-08  betacoronavirus   \n3            29449      2021-12-01  betacoronavirus   \n4            29863      2021-12-28  betacoronavirus   \n\n                                        covv_variant  \n0  VOC Delta GK (B.1.617.2+AY.*) first detected i...  \n1  VOC Alpha GRY (B.1.1.7+Q.*) first detected in ...  \n2  VOC Delta GK (B.1.617.2+AY.*) first detected i...  \n3  VOC Delta GK (B.1.617.2+AY.*) first detected i...  \n4  VOC Delta GK (B.1.617.2+AY.*) first detected i...  \n\n[5 rows x 21 columns]",
      "text/html": "<div>\n<style scoped>\n    .dataframe tbody tr th:only-of-type {\n        vertical-align: middle;\n    }\n\n    .dataframe tbody tr th {\n        vertical-align: top;\n    }\n\n    .dataframe thead th {\n        text-align: right;\n    }\n</style>\n<table border=\"1\" class=\"dataframe\">\n  <thead>\n    <tr style=\"text-align: right;\">\n      <th></th>\n      <th>covv_accession_id</th>\n      <th>covv_clade</th>\n      <th>covv_collection_date</th>\n      <th>covsurver_prot_mutations</th>\n      <th>covsurver_uniquemutlist</th>\n      <th>covv_orig_lab</th>\n      <th>covv_passage</th>\n      <th>covv_subm_lab</th>\n      <th>gc_content</th>\n      <th>covv_host</th>\n      <th>...</th>\n      <th>is_reference</th>\n      <th>is_complete</th>\n      <th>covv_lineage</th>\n      <th>pangolin_lineages_version</th>\n      <th>covv_location</th>\n      <th>n_content</th>\n      <th>sequence_length</th>\n      <th>covv_subm_date</th>\n      <th>covv_type</th>\n      <th>covv_variant</th>\n    </tr>\n  </thead>\n  <tbody>\n    <tr>\n      <th>0</th>\n      <td>EPI_ISL_4087268</td>\n      <td>GK</td>\n      <td>2021-09-02</td>\n      <td>(M_I82T,NSP12_P323L,Spike_P681R,Spike_R158del,...</td>\n      <td>NaN</td>\n      <td>Lighthouse Lab in Alderley Park</td>\n      <td>Original</td>\n      <td>Wellcome Sanger Institute for the COVID-19 Gen...</td>\n      <td>0.379603</td>\n      <td>Human</td>\n      <td>...</td>\n      <td>False</td>\n      <td>True</td>\n      <td>AY.4</td>\n      <td>2022-02-02</td>\n      <td>Europe / United Kingdom / England</td>\n      <td>0.000000</td>\n      <td>29760</td>\n      <td>2021-09-11</td>\n      <td>betacoronavirus</td>\n      <td>VOC Delta GK (B.1.617.2+AY.*) first detected i...</td>\n    </tr>\n    <tr>\n      <th>1</th>\n      <td>EPI_ISL_1169235</td>\n      <td>GRY</td>\n      <td>2021-02-27</td>\n      <td>(Spike_V70del,NSP12_P323L,Spike_D1118H,NSP3_T1...</td>\n      <td>NaN</td>\n      <td>ASL Napoli 1 Centro</td>\n      <td>Original</td>\n      <td>AMES Centro Polidiagnostico Strumentale S.r.l.</td>\n      <td>0.379672</td>\n      <td>Human</td>\n      <td>...</td>\n      <td>False</td>\n      <td>True</td>\n      <td>B.1.1.7</td>\n      <td>2022-02-02</td>\n      <td>Europe / Italy / Campania / Napoli</td>\n      <td>0.008731</td>\n      <td>29666</td>\n      <td>2021-03-06</td>\n      <td>betacoronavirus</td>\n      <td>VOC Alpha GRY (B.1.1.7+Q.*) first detected in ...</td>\n    </tr>\n    <tr>\n      <th>2</th>\n      <td>EPI_ISL_6063368</td>\n      <td>GK</td>\n      <td>2021-10-05</td>\n      <td>(M_I82T,NSP12_P323L,Spike_P681R,Spike_R158del,...</td>\n      <td>NaN</td>\n      <td>Aegis Sciences Corporation</td>\n      <td>Original</td>\n      <td>Centers for Disease Control and Prevention   D...</td>\n      <td>0.379456</td>\n      <td>Human</td>\n      <td>...</td>\n      <td>False</td>\n      <td>True</td>\n      <td>AY.100</td>\n      <td>2022-02-02</td>\n      <td>North America / USA / Texas</td>\n      <td>0.000134</td>\n      <td>29823</td>\n      <td>2021-11-08</td>\n      <td>betacoronavirus</td>\n      <td>VOC Delta GK (B.1.617.2+AY.*) first detected i...</td>\n    </tr>\n    <tr>\n      <th>3</th>\n      <td>EPI_ISL_6928247</td>\n      <td>GK</td>\n      <td>2021-11-20</td>\n      <td>(M_I82T,NSP12_P323L,Spike_P681R,NSP14_A344S,Sp...</td>\n      <td>NaN</td>\n      <td>Lighthouse Lab in Alderley Park</td>\n      <td>Original</td>\n      <td>Wellcome Sanger Institute for the COVID-19 Gen...</td>\n      <td>0.379375</td>\n      <td>Human</td>\n      <td>...</td>\n      <td>False</td>\n      <td>True</td>\n      <td>AY.43</td>\n      <td>2022-02-02</td>\n      <td>Europe / United Kingdom / England</td>\n      <td>0.060853</td>\n      <td>29449</td>\n      <td>2021-12-01</td>\n      <td>betacoronavirus</td>\n      <td>VOC Delta GK (B.1.617.2+AY.*) first detected i...</td>\n    </tr>\n    <tr>\n      <th>4</th>\n      <td>EPI_ISL_8148179</td>\n      <td>GK</td>\n      <td>2021-12-06</td>\n      <td>(NSP3_K839R,M_I82T,NS7a_S83L,NSP12_P323L,Spike...</td>\n      <td>NaN</td>\n      <td>CDPH VBL</td>\n      <td>Original</td>\n      <td>California Department of Public Health</td>\n      <td>0.379730</td>\n      <td>Human</td>\n      <td>...</td>\n      <td>False</td>\n      <td>True</td>\n      <td>AY.103</td>\n      <td>2022-02-02</td>\n      <td>North America / USA / California / Alameda County</td>\n      <td>0.023005</td>\n      <td>29863</td>\n      <td>2021-12-28</td>\n      <td>betacoronavirus</td>\n      <td>VOC Delta GK (B.1.617.2+AY.*) first detected i...</td>\n    </tr>\n  </tbody>\n</table>\n<p>5 rows × 21 columns</p>\n</div>"
     },
     "execution_count": 14,
     "metadata": {},
     "output_type": "execute_result"
    }
   ],
   "source": [
    "gisaid_metadata.head()"
   ],
   "metadata": {
    "collapsed": false,
    "pycharm": {
     "name": "#%%\n"
    }
   }
  },
  {
   "cell_type": "code",
   "execution_count": 15,
   "outputs": [
    {
     "data": {
      "text/plain": "      covv_accession_id covv_clade covv_collection_date  \\\n52175   EPI_ISL_4085782         GK           2021-09-03   \n52176   EPI_ISL_2451549          G           2021-05-23   \n52177   EPI_ISL_4085783         GK           2021-09-03   \n52178   EPI_ISL_4085784         GK           2021-09-02   \n52179   EPI_ISL_3987256         GK           2021-08-18   \n\n                                covsurver_prot_mutations  \\\n52175  (M_I82T,NSP12_P323L,Spike_P681R,Spike_R158del,...   \n52176  (NSP12_P323L,Spike_P26S,Spike_D138Y,N_P80R,Spi...   \n52177  (M_I82T,NSP12_P323L,Spike_P681R,NSP12_T26I,N_D...   \n52178  (M_I82T,NSP12_D879Y,NSP12_P323L,Spike_P681R,Sp...   \n52179  (M_I82T,NSP12_P323L,Spike_P681R,Spike_R158del,...   \n\n      covsurver_uniquemutlist  \\\n52175                     NaN   \n52176                     NaN   \n52177                     NaN   \n52178                     NaN   \n52179                     NaN   \n\n                                           covv_orig_lab covv_passage  \\\n52175  Berkshire and Surrey Pathology Services Lighth...     Original   \n52176                     Quest Diagnostics Incorporated     Original   \n52177  Berkshire and Surrey Pathology Services Lighth...     Original   \n52178  Berkshire and Surrey Pathology Services Lighth...     Original   \n52179  Swedish national genomic surveillance program ...     Original   \n\n                                           covv_subm_lab  gc_content  \\\n52175  Wellcome Sanger Institute for the COVID-19 Gen...    0.379623   \n52176  Centers for Disease Control and Prevention   D...    0.379687   \n52177  Wellcome Sanger Institute for the COVID-19 Gen...    0.380545   \n52178  Wellcome Sanger Institute for the COVID-19 Gen...    0.379590   \n52179                 The Public Health Agency of Sweden    0.379528   \n\n      covv_host  ...  is_reference  is_complete  covv_lineage  \\\n52175     Human  ...         False         True        AY.4.2   \n52176     Human  ...         False         True           P.1   \n52177     Human  ...         False         True          AY.4   \n52178     Human  ...         False         True          AY.4   \n52179     Human  ...         False         True       AY.46.6   \n\n      pangolin_lineages_version                      covv_location n_content  \\\n52175                2022-02-02  Europe / United Kingdom / England   0.00000   \n52176                2022-02-02      North America / USA / Arizona   0.00937   \n52177                2022-02-02  Europe / United Kingdom / England   0.06949   \n52178                2022-02-02  Europe / United Kingdom / England   0.00000   \n52179                2022-02-02        Europe / Sweden / Kronoberg   0.00000   \n\n       sequence_length  covv_subm_date        covv_type  \\\n52175            29769      2021-09-11  betacoronavirus   \n52176            29777      2021-06-08  betacoronavirus   \n52177            29775      2021-09-11  betacoronavirus   \n52178            29769      2021-09-11  betacoronavirus   \n52179            29816      2021-09-07  betacoronavirus   \n\n                                            covv_variant  \n52175  VOC Delta GK (B.1.617.2+AY.*) first detected i...  \n52176  VOC Gamma GR/501Y.V3 (P.1+P.1.*) first detecte...  \n52177  VOC Delta GK (B.1.617.2+AY.*) first detected i...  \n52178  VOC Delta GK (B.1.617.2+AY.*) first detected i...  \n52179  VOC Delta GK (B.1.617.2+AY.*) first detected i...  \n\n[5 rows x 21 columns]",
      "text/html": "<div>\n<style scoped>\n    .dataframe tbody tr th:only-of-type {\n        vertical-align: middle;\n    }\n\n    .dataframe tbody tr th {\n        vertical-align: top;\n    }\n\n    .dataframe thead th {\n        text-align: right;\n    }\n</style>\n<table border=\"1\" class=\"dataframe\">\n  <thead>\n    <tr style=\"text-align: right;\">\n      <th></th>\n      <th>covv_accession_id</th>\n      <th>covv_clade</th>\n      <th>covv_collection_date</th>\n      <th>covsurver_prot_mutations</th>\n      <th>covsurver_uniquemutlist</th>\n      <th>covv_orig_lab</th>\n      <th>covv_passage</th>\n      <th>covv_subm_lab</th>\n      <th>gc_content</th>\n      <th>covv_host</th>\n      <th>...</th>\n      <th>is_reference</th>\n      <th>is_complete</th>\n      <th>covv_lineage</th>\n      <th>pangolin_lineages_version</th>\n      <th>covv_location</th>\n      <th>n_content</th>\n      <th>sequence_length</th>\n      <th>covv_subm_date</th>\n      <th>covv_type</th>\n      <th>covv_variant</th>\n    </tr>\n  </thead>\n  <tbody>\n    <tr>\n      <th>52175</th>\n      <td>EPI_ISL_4085782</td>\n      <td>GK</td>\n      <td>2021-09-03</td>\n      <td>(M_I82T,NSP12_P323L,Spike_P681R,Spike_R158del,...</td>\n      <td>NaN</td>\n      <td>Berkshire and Surrey Pathology Services Lighth...</td>\n      <td>Original</td>\n      <td>Wellcome Sanger Institute for the COVID-19 Gen...</td>\n      <td>0.379623</td>\n      <td>Human</td>\n      <td>...</td>\n      <td>False</td>\n      <td>True</td>\n      <td>AY.4.2</td>\n      <td>2022-02-02</td>\n      <td>Europe / United Kingdom / England</td>\n      <td>0.00000</td>\n      <td>29769</td>\n      <td>2021-09-11</td>\n      <td>betacoronavirus</td>\n      <td>VOC Delta GK (B.1.617.2+AY.*) first detected i...</td>\n    </tr>\n    <tr>\n      <th>52176</th>\n      <td>EPI_ISL_2451549</td>\n      <td>G</td>\n      <td>2021-05-23</td>\n      <td>(NSP12_P323L,Spike_P26S,Spike_D138Y,N_P80R,Spi...</td>\n      <td>NaN</td>\n      <td>Quest Diagnostics Incorporated</td>\n      <td>Original</td>\n      <td>Centers for Disease Control and Prevention   D...</td>\n      <td>0.379687</td>\n      <td>Human</td>\n      <td>...</td>\n      <td>False</td>\n      <td>True</td>\n      <td>P.1</td>\n      <td>2022-02-02</td>\n      <td>North America / USA / Arizona</td>\n      <td>0.00937</td>\n      <td>29777</td>\n      <td>2021-06-08</td>\n      <td>betacoronavirus</td>\n      <td>VOC Gamma GR/501Y.V3 (P.1+P.1.*) first detecte...</td>\n    </tr>\n    <tr>\n      <th>52177</th>\n      <td>EPI_ISL_4085783</td>\n      <td>GK</td>\n      <td>2021-09-03</td>\n      <td>(M_I82T,NSP12_P323L,Spike_P681R,NSP12_T26I,N_D...</td>\n      <td>NaN</td>\n      <td>Berkshire and Surrey Pathology Services Lighth...</td>\n      <td>Original</td>\n      <td>Wellcome Sanger Institute for the COVID-19 Gen...</td>\n      <td>0.380545</td>\n      <td>Human</td>\n      <td>...</td>\n      <td>False</td>\n      <td>True</td>\n      <td>AY.4</td>\n      <td>2022-02-02</td>\n      <td>Europe / United Kingdom / England</td>\n      <td>0.06949</td>\n      <td>29775</td>\n      <td>2021-09-11</td>\n      <td>betacoronavirus</td>\n      <td>VOC Delta GK (B.1.617.2+AY.*) first detected i...</td>\n    </tr>\n    <tr>\n      <th>52178</th>\n      <td>EPI_ISL_4085784</td>\n      <td>GK</td>\n      <td>2021-09-02</td>\n      <td>(M_I82T,NSP12_D879Y,NSP12_P323L,Spike_P681R,Sp...</td>\n      <td>NaN</td>\n      <td>Berkshire and Surrey Pathology Services Lighth...</td>\n      <td>Original</td>\n      <td>Wellcome Sanger Institute for the COVID-19 Gen...</td>\n      <td>0.379590</td>\n      <td>Human</td>\n      <td>...</td>\n      <td>False</td>\n      <td>True</td>\n      <td>AY.4</td>\n      <td>2022-02-02</td>\n      <td>Europe / United Kingdom / England</td>\n      <td>0.00000</td>\n      <td>29769</td>\n      <td>2021-09-11</td>\n      <td>betacoronavirus</td>\n      <td>VOC Delta GK (B.1.617.2+AY.*) first detected i...</td>\n    </tr>\n    <tr>\n      <th>52179</th>\n      <td>EPI_ISL_3987256</td>\n      <td>GK</td>\n      <td>2021-08-18</td>\n      <td>(M_I82T,NSP12_P323L,Spike_P681R,Spike_R158del,...</td>\n      <td>NaN</td>\n      <td>Swedish national genomic surveillance program ...</td>\n      <td>Original</td>\n      <td>The Public Health Agency of Sweden</td>\n      <td>0.379528</td>\n      <td>Human</td>\n      <td>...</td>\n      <td>False</td>\n      <td>True</td>\n      <td>AY.46.6</td>\n      <td>2022-02-02</td>\n      <td>Europe / Sweden / Kronoberg</td>\n      <td>0.00000</td>\n      <td>29816</td>\n      <td>2021-09-07</td>\n      <td>betacoronavirus</td>\n      <td>VOC Delta GK (B.1.617.2+AY.*) first detected i...</td>\n    </tr>\n  </tbody>\n</table>\n<p>5 rows × 21 columns</p>\n</div>"
     },
     "execution_count": 15,
     "metadata": {},
     "output_type": "execute_result"
    }
   ],
   "source": [
    "gisaid_metadata.tail()"
   ],
   "metadata": {
    "collapsed": false,
    "pycharm": {
     "name": "#%%\n"
    }
   }
  },
  {
   "cell_type": "markdown",
   "source": [
    "## Data Cleaning"
   ],
   "metadata": {
    "collapsed": false,
    "pycharm": {
     "name": "#%% md\n"
    }
   }
  },
  {
   "cell_type": "code",
   "execution_count": 17,
   "outputs": [
    {
     "name": "stdout",
     "output_type": "stream",
     "text": [
      "5411 non-human samples removed\n"
     ]
    }
   ],
   "source": [
    "# Remove non-human hosts\n",
    "original_len = len(gisaid_metadata)\n",
    "gisaid_metadata = gisaid_metadata[gisaid_metadata['covv_host'] == 'Human']\n",
    "print(f'{original_len - len(gisaid_metadata)} non-human samples removed')  # 5,411 samples removed"
   ],
   "metadata": {
    "collapsed": false,
    "pycharm": {
     "name": "#%%\n"
    }
   }
  },
  {
   "cell_type": "markdown",
   "source": [
    "## Data Enrichment\n",
    "\n",
    "### Country"
   ],
   "metadata": {
    "collapsed": false,
    "pycharm": {
     "name": "#%% md\n"
    }
   }
  },
  {
   "cell_type": "code",
   "execution_count": 18,
   "outputs": [
    {
     "data": {
      "text/plain": "Europe / United Kingdom / England                                 1643702\nNorth America / USA / California                                   237471\nEurope / United Kingdom / Scotland                                 183835\nEurope / United Kingdom / Wales                                    170302\nNorth America / USA / Colorado                                     154177\n                                                                   ...   \nEurope / Poland / Kujawsko-Pomorskie / Inowroclaw                       1\nEurope / Poland / Pomorskie / Katruski                                  1\nNorth America / USA / Arizona / Lake                                    1\nAsia / India / Madhya Pradesh / Ratalam                                 1\nEurope / Germany / Mecklenburg-Western Pomerania / Ueckermunde          1\nName: covv_location, Length: 27917, dtype: int64"
     },
     "execution_count": 18,
     "metadata": {},
     "output_type": "execute_result"
    }
   ],
   "source": [
    "gisaid_metadata['covv_location'].value_counts()"
   ],
   "metadata": {
    "collapsed": false,
    "pycharm": {
     "name": "#%%\n"
    }
   }
  },
  {
   "cell_type": "code",
   "execution_count": 19,
   "outputs": [
    {
     "data": {
      "text/plain": "array(['United Kingdom', 'Italy', 'USA', 'France', 'Mexico', 'Sweden',\n       'Netherlands', 'Austria', 'Spain', 'Japan', 'Australia', 'Belgium',\n       'India', 'Switzerland', 'Canada', 'Reunion', 'Guam', 'Lithuania',\n       'El Salvador', 'Brazil', 'Bulgaria', 'Northern Mariana Islands',\n       'Slovenia', 'Turkey', 'Germany', 'Argentina',\n       'U.S. Virgin Islands', 'Nigeria', 'Slovakia', 'Vietnam',\n       'Czech Republic', 'Denmark', 'Ireland', 'Myanmar', 'Iran', 'Peru',\n       'Indonesia', 'Hong Kong', 'Portugal', 'Georgia', 'Romania',\n       'Colombia', 'Malaysia', 'Bangladesh', 'Jordan', 'Croatia', 'Chile',\n       'South Africa', 'Poland', 'Egypt', 'Venezuela', 'Russia', 'Aruba',\n       'Serbia', 'United Arab Emirates', 'Israel', 'Taiwan', 'Maldives',\n       'Finland', 'Greece', 'Ghana', 'Montenegro', 'Hungary',\n       'Trinidad and Tobago', 'China', 'Thailand', 'Singapore',\n       'Guadeloupe', 'Ecuador', 'South Korea', 'Qatar', 'Martinique',\n       'Bermuda', 'Saint Vincent and the Grenadines',\n       'Saint Kitts and Nevis', 'Antigua and Barbuda', 'Bonaire',\n       'Pakistan', 'Rwanda', 'Curacao', 'Liechtenstein', 'Cambodia',\n       'Senegal', 'Iraq', 'Bosnia and Herzegovina', 'Philippines',\n       'Kenya', 'New Zealand', 'Saudi Arabia', 'Puerto Rico',\n       'Mozambique', 'French Guiana', 'Madagascar', 'Bahrain', 'Norway',\n       'Djibouti', 'British Virgin Islands', 'Saint Lucia', 'Jamaica',\n       'Sri Lanka', 'Brunei', 'Guatemala', 'Ethiopia', 'Bolivia',\n       'Belarus', 'Costa Rica', 'Sudan', 'Benin', 'Gabon', 'Paraguay',\n       'Nepal', 'Mayotte', 'Malawi', 'Algeria', 'Latvia', 'Oman',\n       'Tunisia', 'Burkina Faso', \"Cote d'Ivoire\", 'Kuwait',\n       'Dominican Republic', 'Papua New Guinea', 'Gibraltar', 'Estonia',\n       'Luxembourg', 'Cuba', 'Cayman Islands', 'Iceland',\n       'North Macedonia', 'Lebanon', 'Democratic Republic of the Congo',\n       'Morocco', 'Crimea', 'Sint Maarten', 'Canary Islands',\n       'Republic of the Congo', 'Uzbekistan', 'Angola', 'Andorra',\n       'Montserrat', 'Botswana', 'Barbados', 'Panama', 'Belize',\n       'Eswatini', 'Uganda', 'Suriname', 'Libya', 'Kazakhstan', 'Zambia',\n       'Namibia', 'Gambia', 'Mauritius', 'Malta', 'Ukraine', 'Mongolia',\n       'Dominica', 'Equatorial Guinea', 'Honduras', 'Cameroon',\n       'Anguilla', 'Zimbabwe', 'Wallis and Futuna Islands', 'Kosovo',\n       'Togo', 'Albania', 'Palestine', 'Faroe Islands', 'Moldova',\n       'Turks and Caicos Islands', 'Niger', 'Guinea-Bissau', 'Mali',\n       'Central African Republic', 'Guinea', 'Syria', 'Armenia',\n       'Burundi', 'Vanuatu', 'French Polynesia', 'Haiti', 'Sierra Leone',\n       'Guyana', 'Monaco', 'Uruguay', 'Seychelles', 'Saint Barthelemy',\n       'Somalia', 'Cabo Verde', 'Laos', 'Grenada', 'South Sudan',\n       'Liberia', 'The Bahamas', 'Cyprus', 'Fiji', 'Azerbaijan', 'Chad',\n       'Comoros', 'Saint Martin', 'Afghanistan', 'Lesotho', 'Timor-Leste',\n       'Solomon Islands', 'Palau', 'American Samoa', 'Nicaragua',\n       'Tanzania', 'Kyrgyzstan', 'Sint Eustatius'], dtype=object)"
     },
     "execution_count": 19,
     "metadata": {},
     "output_type": "execute_result"
    }
   ],
   "source": [
    "# Extract country from location consisting of at least the continent (index 0) and country (index 1)\n",
    "gisaid_metadata['country'] = gisaid_metadata['covv_location'].apply(lambda loc: loc.split('/')[1].strip())\n",
    "gisaid_metadata['country'].unique()"
   ],
   "metadata": {
    "collapsed": false,
    "pycharm": {
     "name": "#%%\n"
    }
   }
  },
  {
   "cell_type": "markdown",
   "source": [
    "### WHO Label of Virus Variant\n",
    "\n",
    "Structure of covv_variant column:\n",
    "\n",
    "`VOI/VOC/VUM <WHO_label> <GISAID_clade> (<Pango_lineage>) first detected in <location>`"
   ],
   "metadata": {
    "collapsed": false,
    "pycharm": {
     "name": "#%% md\n"
    }
   }
  },
  {
   "cell_type": "code",
   "execution_count": 20,
   "outputs": [
    {
     "data": {
      "text/plain": "Delta      4173715\nUnknown    1239860\nOmicron    1157449\nAlpha      1150990\nGamma       120350\nEpsilon      70339\nIota         43100\nBeta         41607\nMu           15459\nLambda        9768\nEta           9493\nKappa         8227\nZeta          5190\nB.1.640        635\nTheta          624\nName: variant_WHO_label, dtype: int64"
     },
     "execution_count": 20,
     "metadata": {},
     "output_type": "execute_result"
    }
   ],
   "source": [
    "# Add column with short version of variant names\n",
    "# \"Unknown\" is set, if covv_variant is NaN\n",
    "gisaid_metadata['variant_WHO_label'] = gisaid_metadata['covv_variant'].apply(lambda name: str(name).split(' ')[1] if 'first' in str(name) else 'Unknown')\n",
    "\n",
    "# Rename GISAID clade \"GH/490R\" to short version of Pango lineage \"B.1.640+B.1.640.*\"\n",
    "# Was added as name of this variant has no WHO label like \"Alpha\" etc.\n",
    "gisaid_metadata['variant_WHO_label'] = gisaid_metadata['variant_WHO_label'].replace('GH/490R', 'B.1.640')\n",
    "\n",
    "gisaid_metadata['variant_WHO_label'].value_counts()"
   ],
   "metadata": {
    "collapsed": false,
    "pycharm": {
     "name": "#%%\n"
    }
   }
  },
  {
   "cell_type": "markdown",
   "source": [
    "## Export as CSV"
   ],
   "metadata": {
    "collapsed": false,
    "pycharm": {
     "name": "#%% md\n"
    }
   }
  },
  {
   "cell_type": "code",
   "execution_count": 25,
   "outputs": [],
   "source": [
    "# Store preprocessed GISAID metadata as CSV file\n",
    "gisaid_metadata.to_csv('../../data/gisaid_metadata_preprocessed.csv', index=False)"
   ],
   "metadata": {
    "collapsed": false,
    "pycharm": {
     "name": "#%%\n"
    }
   }
  }
 ],
 "metadata": {
  "kernelspec": {
   "display_name": "Python 3",
   "language": "python",
   "name": "python3"
  },
  "language_info": {
   "codemirror_mode": {
    "name": "ipython",
    "version": 2
   },
   "file_extension": ".py",
   "mimetype": "text/x-python",
   "name": "python",
   "nbconvert_exporter": "python",
   "pygments_lexer": "ipython2",
   "version": "2.7.6"
  }
 },
 "nbformat": 4,
 "nbformat_minor": 0
}