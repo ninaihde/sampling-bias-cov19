{
 "cells": [
  {
   "cell_type": "markdown",
   "metadata": {
    "collapsed": true,
    "pycharm": {
     "name": "#%% md\n"
    }
   },
   "source": [
    "# GISAID Metadata - General Insights"
   ]
  },
  {
   "cell_type": "code",
   "execution_count": 1,
   "outputs": [
    {
     "name": "stdout",
     "output_type": "stream",
     "text": [
      "<class 'dask.dataframe.core.DataFrame'>\n",
      "Columns: 21 entries, covv_accession_id to covv_variant\n",
      "dtypes: object(15), bool(3), float64(2), int64(1)"
     ]
    }
   ],
   "source": [
    "import dask.dataframe as dd\n",
    "\n",
    "gisaid_metadata = dd.read_csv('../../data/gisaid_metadata_preprocessed.csv')\n",
    "gisaid_metadata.info()  # -> 21 columns: 15 string, 3 bool, 2 float & 1 integer"
   ],
   "metadata": {
    "collapsed": false,
    "pycharm": {
     "name": "#%%\n"
    }
   }
  },
  {
   "cell_type": "markdown",
   "source": [
    "## Overview of Available Features"
   ],
   "metadata": {
    "collapsed": false,
    "pycharm": {
     "name": "#%% md\n"
    }
   }
  },
  {
   "cell_type": "code",
   "execution_count": 25,
   "outputs": [
    {
     "data": {
      "text/plain": "       covv_accession_id covv_clade covv_collection_date  \\\nunique           6945225         11                  870   \ncount            6945225    6945158              6945225   \ntop      EPI_ISL_1000000         GK                 2021   \nfreq                   1    3862210                58872   \n\n                                 covsurver_prot_mutations  \\\nunique                                            3177940   \ncount                                             6945225   \ntop     (Spike_P681R,N_D63G,NS7a_V82A,NSP12_P323L,NSP1...   \nfreq                                                34659   \n\n       covsurver_uniquemutlist                    covv_orig_lab covv_passage  \\\nunique                  152303                            20425          324   \ncount                  1642878                          6945153      6945225   \ntop         (NS7a_V82A,N_D63G)  Lighthouse Lab in Milton Keynes     Original   \nfreq                    407363                           385133      6899356   \n\n                                            covv_subm_lab covv_host  \\\nunique                                               4086         1   \ncount                                             6945224   6945225   \ntop     Wellcome Sanger Institute for the COVID-19 Gen...     Human   \nfreq                                              1200964   6945225   \n\n       is_high_coverage is_reference is_complete covv_lineage  \\\nunique                2            2           2         1578   \ncount           6945225      6945225     6945225      6945158   \ntop                True        False        True      B.1.1.7   \nfreq            4848328      6945224     6839717      1116179   \n\n       pangolin_lineages_version                      covv_location  \\\nunique                         1                              26054   \ncount                    6945222                            6945225   \ntop                   2022-01-05  Europe / United Kingdom / England   \nfreq                     6945222                            1382051   \n\n       covv_subm_date        covv_type  \\\nunique            723                1   \ncount         6945225          6945206   \ntop        2021-11-17  betacoronavirus   \nfreq            68511          6945206   \n\n                                             covv_variant  \nunique                                                 14  \ncount                                             5734408  \ntop     VOC Delta GK/478K.V1 (B.1.617.2+AY.x) first de...  \nfreq                                              3992087  ",
      "text/html": "<div>\n<style scoped>\n    .dataframe tbody tr th:only-of-type {\n        vertical-align: middle;\n    }\n\n    .dataframe tbody tr th {\n        vertical-align: top;\n    }\n\n    .dataframe thead th {\n        text-align: right;\n    }\n</style>\n<table border=\"1\" class=\"dataframe\">\n  <thead>\n    <tr style=\"text-align: right;\">\n      <th></th>\n      <th>covv_accession_id</th>\n      <th>covv_clade</th>\n      <th>covv_collection_date</th>\n      <th>covsurver_prot_mutations</th>\n      <th>covsurver_uniquemutlist</th>\n      <th>covv_orig_lab</th>\n      <th>covv_passage</th>\n      <th>covv_subm_lab</th>\n      <th>covv_host</th>\n      <th>is_high_coverage</th>\n      <th>is_reference</th>\n      <th>is_complete</th>\n      <th>covv_lineage</th>\n      <th>pangolin_lineages_version</th>\n      <th>covv_location</th>\n      <th>covv_subm_date</th>\n      <th>covv_type</th>\n      <th>covv_variant</th>\n    </tr>\n  </thead>\n  <tbody>\n    <tr>\n      <th>unique</th>\n      <td>6945225</td>\n      <td>11</td>\n      <td>870</td>\n      <td>3177940</td>\n      <td>152303</td>\n      <td>20425</td>\n      <td>324</td>\n      <td>4086</td>\n      <td>1</td>\n      <td>2</td>\n      <td>2</td>\n      <td>2</td>\n      <td>1578</td>\n      <td>1</td>\n      <td>26054</td>\n      <td>723</td>\n      <td>1</td>\n      <td>14</td>\n    </tr>\n    <tr>\n      <th>count</th>\n      <td>6945225</td>\n      <td>6945158</td>\n      <td>6945225</td>\n      <td>6945225</td>\n      <td>1642878</td>\n      <td>6945153</td>\n      <td>6945225</td>\n      <td>6945224</td>\n      <td>6945225</td>\n      <td>6945225</td>\n      <td>6945225</td>\n      <td>6945225</td>\n      <td>6945158</td>\n      <td>6945222</td>\n      <td>6945225</td>\n      <td>6945225</td>\n      <td>6945206</td>\n      <td>5734408</td>\n    </tr>\n    <tr>\n      <th>top</th>\n      <td>EPI_ISL_1000000</td>\n      <td>GK</td>\n      <td>2021</td>\n      <td>(Spike_P681R,N_D63G,NS7a_V82A,NSP12_P323L,NSP1...</td>\n      <td>(NS7a_V82A,N_D63G)</td>\n      <td>Lighthouse Lab in Milton Keynes</td>\n      <td>Original</td>\n      <td>Wellcome Sanger Institute for the COVID-19 Gen...</td>\n      <td>Human</td>\n      <td>True</td>\n      <td>False</td>\n      <td>True</td>\n      <td>B.1.1.7</td>\n      <td>2022-01-05</td>\n      <td>Europe / United Kingdom / England</td>\n      <td>2021-11-17</td>\n      <td>betacoronavirus</td>\n      <td>VOC Delta GK/478K.V1 (B.1.617.2+AY.x) first de...</td>\n    </tr>\n    <tr>\n      <th>freq</th>\n      <td>1</td>\n      <td>3862210</td>\n      <td>58872</td>\n      <td>34659</td>\n      <td>407363</td>\n      <td>385133</td>\n      <td>6899356</td>\n      <td>1200964</td>\n      <td>6945225</td>\n      <td>4848328</td>\n      <td>6945224</td>\n      <td>6839717</td>\n      <td>1116179</td>\n      <td>6945222</td>\n      <td>1382051</td>\n      <td>68511</td>\n      <td>6945206</td>\n      <td>3992087</td>\n    </tr>\n  </tbody>\n</table>\n</div>"
     },
     "execution_count": 25,
     "metadata": {},
     "output_type": "execute_result"
    }
   ],
   "source": [
    "# Get statistics of categorical columns\n",
    "gisaid_metadata.describe(include=['object', 'bool']).compute()\n",
    "\n",
    "# FINDINGS:\n",
    "# covv_variant has 14 unique values\n",
    "# sequencing reason/ keywords column don't exist but should (see GISAID upload or search area)\n",
    "\n",
    "# QUESTIONS FOR FABIO:\n",
    "# 1. Why does metadata by CovRadar API has different column names?\n",
    "# 2. Can we include sequencing reason/ keywords?\n",
    "# 3. Where to find official documentation of GISAID metadata?"
   ],
   "metadata": {
    "collapsed": false,
    "pycharm": {
     "name": "#%%\n"
    }
   }
  },
  {
   "cell_type": "code",
   "execution_count": 26,
   "outputs": [
    {
     "data": {
      "text/plain": "         gc_content     n_content  sequence_length\ncount  6.945225e+06  6.945225e+06     6.945225e+06\nmean   3.794622e-01  1.353829e-02     2.942621e+04\nstd    2.074926e-03  3.736357e-02     3.023512e+03\nmin    1.449275e-01  0.000000e+00     6.400000e+01\n25%    3.795258e-01  0.000000e+00     2.976800e+04\n50%    3.797201e-01  5.400510e-03     2.979900e+04\n75%    3.800570e-01  5.040092e-02     2.984200e+04\nmax    5.357143e-01  9.977176e-01     3.469200e+04",
      "text/html": "<div>\n<style scoped>\n    .dataframe tbody tr th:only-of-type {\n        vertical-align: middle;\n    }\n\n    .dataframe tbody tr th {\n        vertical-align: top;\n    }\n\n    .dataframe thead th {\n        text-align: right;\n    }\n</style>\n<table border=\"1\" class=\"dataframe\">\n  <thead>\n    <tr style=\"text-align: right;\">\n      <th></th>\n      <th>gc_content</th>\n      <th>n_content</th>\n      <th>sequence_length</th>\n    </tr>\n  </thead>\n  <tbody>\n    <tr>\n      <th>count</th>\n      <td>6.945225e+06</td>\n      <td>6.945225e+06</td>\n      <td>6.945225e+06</td>\n    </tr>\n    <tr>\n      <th>mean</th>\n      <td>3.794622e-01</td>\n      <td>1.353829e-02</td>\n      <td>2.942621e+04</td>\n    </tr>\n    <tr>\n      <th>std</th>\n      <td>2.074926e-03</td>\n      <td>3.736357e-02</td>\n      <td>3.023512e+03</td>\n    </tr>\n    <tr>\n      <th>min</th>\n      <td>1.449275e-01</td>\n      <td>0.000000e+00</td>\n      <td>6.400000e+01</td>\n    </tr>\n    <tr>\n      <th>25%</th>\n      <td>3.795258e-01</td>\n      <td>0.000000e+00</td>\n      <td>2.976800e+04</td>\n    </tr>\n    <tr>\n      <th>50%</th>\n      <td>3.797201e-01</td>\n      <td>5.400510e-03</td>\n      <td>2.979900e+04</td>\n    </tr>\n    <tr>\n      <th>75%</th>\n      <td>3.800570e-01</td>\n      <td>5.040092e-02</td>\n      <td>2.984200e+04</td>\n    </tr>\n    <tr>\n      <th>max</th>\n      <td>5.357143e-01</td>\n      <td>9.977176e-01</td>\n      <td>3.469200e+04</td>\n    </tr>\n  </tbody>\n</table>\n</div>"
     },
     "execution_count": 26,
     "metadata": {},
     "output_type": "execute_result"
    }
   ],
   "source": [
    "# Get statistics of numeric columns\n",
    "gisaid_metadata.describe(include=['float64', 'int64']).compute()"
   ],
   "metadata": {
    "collapsed": false,
    "pycharm": {
     "name": "#%%\n"
    }
   }
  },
  {
   "cell_type": "code",
   "execution_count": 2,
   "outputs": [
    {
     "data": {
      "text/plain": "VOC Delta GK/478K.V1 (B.1.617.2+AY.x) first detected in India                         3993832\nVOC Alpha 202012/01 GRY (B.1.1.7+Q.x) first detected in the UK                        1145975\nVOC Omicron GRA (B.1.1.529+BA.*) first detected in Botswana/Hong Kong/South Africa     276235\nVOC Gamma GR/501Y.V3 (P.1+P.1.x) first detected in Brazil/Japan                        120130\nVOI Epsilon GH/452R.V1 (B.1.429+B.1.427) first detected in USA/California               68180\nVOI Iota GH/253G.V1 (B.1.526) first detected in USA/New York                            42912\nVOC Beta GH/501Y.V2 (B.1.351+B.1.351.2+B.1.351.3) first detected in South Africa        41006\nVOI Mu GH (B.1.621+B.1.621.1) first detected in Colombia                                14774\nVOI Lambda GR/452Q.V1 (C.37+C.37.1) first detected in Peru                               9575\nVOI Eta G/484K.V3 (B.1.525) first detected in UK/Nigeria                                 9424\nVOI Kappa G/452R.V3 (B.1.617.1) first detected in India                                  8150\nVOI Zeta GR/484K.V2 (P.2) first detected in Brazil                                       5506\nVOI Theta GR/1092K.V1 (P.3) first detected in the Philippines                             624\nVUM GH/490R (B.1.640+B.1.640.*) first detected in Congo/France                            456\nName: covv_variant, dtype: int64"
     },
     "execution_count": 2,
     "metadata": {},
     "output_type": "execute_result"
    }
   ],
   "source": [
    "# Get value counts of virus variants\n",
    "gisaid_metadata.covv_variant.value_counts().compute()"
   ],
   "metadata": {
    "collapsed": false,
    "pycharm": {
     "name": "#%%\n"
    }
   }
  }
 ],
 "metadata": {
  "kernelspec": {
   "display_name": "Python 3",
   "language": "python",
   "name": "python3"
  },
  "language_info": {
   "codemirror_mode": {
    "name": "ipython",
    "version": 2
   },
   "file_extension": ".py",
   "mimetype": "text/x-python",
   "name": "python",
   "nbconvert_exporter": "python",
   "pygments_lexer": "ipython2",
   "version": "2.7.6"
  }
 },
 "nbformat": 4,
 "nbformat_minor": 0
}