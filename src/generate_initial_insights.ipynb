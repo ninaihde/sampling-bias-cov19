{
 "cells": [
  {
   "cell_type": "markdown",
   "metadata": {
    "collapsed": true,
    "pycharm": {
     "name": "#%% md\n"
    }
   },
   "source": [
    "# EBI Metadata - Initial Insights"
   ]
  },
  {
   "cell_type": "code",
   "execution_count": 176,
   "outputs": [
    {
     "name": "stdout",
     "output_type": "stream",
     "text": [
      "<class 'pandas.core.frame.DataFrame'>\n",
      "RangeIndex: 2520583 entries, 0 to 2520582\n",
      "Data columns (total 33 columns):\n",
      " #   Column                Dtype  \n",
      "---  ------                -----  \n",
      " 0   accession             object \n",
      " 1   base_count            int64  \n",
      " 2   collected_by          object \n",
      " 3   collection_date       object \n",
      " 4   country_and_region    object \n",
      " 5   culture_collection    object \n",
      " 6   dataclass             object \n",
      " 7   description           object \n",
      " 8   environmental_sample  bool   \n",
      " 9   first_public          object \n",
      " 10  germline              bool   \n",
      " 11  host                  object \n",
      " 12  identified_by         object \n",
      " 13  isolate               object \n",
      " 14  isolation_source      object \n",
      " 15  keywords              object \n",
      " 16  lab_host              object \n",
      " 17  last_updated          object \n",
      " 18  location              object \n",
      " 19  mol_type              object \n",
      " 20  sample_accession      object \n",
      " 21  scientific_name       object \n",
      " 22  sequence_md5          object \n",
      " 23  sequence_version      int64  \n",
      " 24  strain                object \n",
      " 25  study_accession       object \n",
      " 26  tax_division          object \n",
      " 27  tax_id                int64  \n",
      " 28  topology              object \n",
      " 29  gender                object \n",
      " 30  age                   float64\n",
      " 31  country               object \n",
      " 32  n_inhabitants         float64\n",
      "dtypes: bool(2), float64(2), int64(3), object(26)\n",
      "memory usage: 601.0+ MB\n"
     ]
    }
   ],
   "source": [
    "import pandas as pd\n",
    "\n",
    "df = pd.read_csv('../data/metadata_EBI_preprocessed.csv',\n",
    "                 dtype={'collected_by': object,\n",
    "                        'collection_date': object,\n",
    "                        'culture_collection': object,\n",
    "                        'identified_by': object,\n",
    "                        'isolate': object,\n",
    "                        'isolation_source': object,\n",
    "                        'keywords': object,\n",
    "                        'lab_host': object,\n",
    "                        'location': object,\n",
    "                        'sample_accession': object,\n",
    "                        'strain': object,\n",
    "                        'study_accession': object})\n",
    "df.info()"
   ],
   "metadata": {
    "collapsed": false,
    "pycharm": {
     "name": "#%%\n"
    }
   }
  },
  {
   "cell_type": "markdown",
   "source": [
    "## Descriptive Statistics"
   ],
   "metadata": {
    "collapsed": false,
    "pycharm": {
     "name": "#%% md\n"
    }
   }
  },
  {
   "cell_type": "code",
   "execution_count": 177,
   "metadata": {
    "pycharm": {
     "name": "#%%\n"
    }
   },
   "outputs": [
    {
     "data": {
      "text/plain": "Summarize dataset:   0%|          | 0/5 [00:00<?, ?it/s]",
      "application/vnd.jupyter.widget-view+json": {
       "version_major": 2,
       "version_minor": 0,
       "model_id": "baa49aca16134dfdb94f6fb194aea4bf"
      }
     },
     "metadata": {},
     "output_type": "display_data"
    },
    {
     "name": "stderr",
     "output_type": "stream",
     "text": [
      "c:\\users\\ninai\\onedrive\\dokumente\\studium\\module\\master\\4. semester\\accountability in ai\\sampling bias\\sampling-bias-cov19\\venv\\lib\\site-packages\\scipy\\stats\\stats.py:4812: RuntimeWarning: overflow encountered in longlong_scalars\n",
      "  (2 * xtie * ytie) / m + x0 * y0 / (9 * m * (size - 2)))\n"
     ]
    },
    {
     "data": {
      "text/plain": "Generate report structure:   0%|          | 0/1 [00:00<?, ?it/s]",
      "application/vnd.jupyter.widget-view+json": {
       "version_major": 2,
       "version_minor": 0,
       "model_id": "f175b97140bd470aadba8432e9e14cc5"
      }
     },
     "metadata": {},
     "output_type": "display_data"
    },
    {
     "data": {
      "text/plain": "Render HTML:   0%|          | 0/1 [00:00<?, ?it/s]",
      "application/vnd.jupyter.widget-view+json": {
       "version_major": 2,
       "version_minor": 0,
       "model_id": "e3a3a364e6854b76a4de116bfc47bb6d"
      }
     },
     "metadata": {},
     "output_type": "display_data"
    },
    {
     "data": {
      "text/plain": "Export report to file:   0%|          | 0/1 [00:00<?, ?it/s]",
      "application/vnd.jupyter.widget-view+json": {
       "version_major": 2,
       "version_minor": 0,
       "model_id": "4bc58befc23f482fba7cfa1e490f4016"
      }
     },
     "metadata": {},
     "output_type": "display_data"
    }
   ],
   "source": [
    "import pandas_profiling\n",
    "import json\n",
    "\n",
    "# Create fancy profile report\n",
    "# See https://pandas-profiling.github.io/pandas-profiling/docs/master/rtd/pages/advanced_usage.html for advanced usage\n",
    "profile_ebi = pandas_profiling.ProfileReport(df,\n",
    "                                             title='EBI Metadata Profiling',\n",
    "                                             minimal=True,\n",
    "                                             correlations={'pearson': {'calculate': True},\n",
    "                                                           'spearman': {'calculate': True},\n",
    "                                                           'kendall': {'calculate': True},\n",
    "                                                           'phi_k': {'calculate': True},\n",
    "                                                           'cramers': {'calculate': False}})\n",
    "\n",
    "# Add definitions\n",
    "with open('json_data/definitions_EBI_metadata.json') as f:\n",
    "    definitions_ebi_metadata = json.load(f)\n",
    "profile_ebi.config.variables.descriptions = definitions_ebi_metadata\n",
    "\n",
    "# Save as html\n",
    "profile_ebi.to_file(output_file='../data/metadata_EBI_profile.html')"
   ]
  },
  {
   "cell_type": "markdown",
   "source": [
    "## Investigation of National Bias"
   ],
   "metadata": {
    "collapsed": false
   }
  },
  {
   "cell_type": "code",
   "execution_count": null,
   "metadata": {
    "pycharm": {
     "name": "#%%\n"
    }
   },
   "outputs": [],
   "source": [
    "# Separate dataframe into countries appearing often and rarely\n",
    "threshold = 1000\n",
    "\n",
    "rare_countries = df[df['country'].map(df['country'].value_counts()) < threshold]\n",
    "rare_countries['country'].value_counts()"
   ]
  },
  {
   "cell_type": "code",
   "execution_count": null,
   "metadata": {
    "pycharm": {
     "name": "#%%\n"
    }
   },
   "outputs": [],
   "source": [
    "popular_countries = df[df['country'].map(df['country'].value_counts()) >= threshold]\n",
    "popular_countries['country'].value_counts()"
   ]
  },
  {
   "cell_type": "code",
   "execution_count": null,
   "outputs": [],
   "source": [
    "with open('json_data/country_inhabitants_map.json') as f:\n",
    "    country_inhabitants_map = json.load(f)"
   ],
   "metadata": {
    "collapsed": false,
    "pycharm": {
     "name": "#%%\n"
    }
   }
  },
  {
   "cell_type": "code",
   "execution_count": null,
   "metadata": {
    "pycharm": {
     "name": "#%%\n"
    }
   },
   "outputs": [],
   "source": [
    "import matplotlib.pyplot as plt\n",
    "import seaborn as sns\n",
    "\n",
    "sns.set_style('whitegrid')\n",
    "\n",
    "# Plot distribution of countries appearing more than 1,000 times\n",
    "for hue in ['dataclass', 'mol_type', 'keywords', 'gender']:\n",
    "    fig, ax = plt.subplots(figsize=(18, 16))\n",
    "    sns.countplot(data=popular_countries,\n",
    "                  x='country',\n",
    "                  hue=hue,\n",
    "                  order=popular_countries['country'].value_counts().index)\n",
    "\n",
    "    fig.suptitle('Distribution of Countries with >= 1,000 Samples', fontsize=22)\n",
    "    plt.xlabel('Country', fontsize=18)\n",
    "    plt.ylabel('Count Normalized by Number of Inhabitants', fontsize=18)\n",
    "    plt.xticks(fontsize=14, rotation=90)\n",
    "    plt.yticks(fontsize=14)\n",
    "    plt.legend(loc='upper right', title=f'{hue.capitalize()}:', fontsize=14)\n",
    "    plt.rcParams['legend.title_fontsize'] = 14\n",
    "\n",
    "    # Normalize height of bars with number of inhabitants\n",
    "    max_y = 0\n",
    "    n_countries = len(popular_countries['country'].unique())\n",
    "    hue_index = 0\n",
    "\n",
    "    for i, patch in enumerate(ax.patches):\n",
    "        if i % n_countries == 0 and i != 0:\n",
    "            hue_index += 1\n",
    "        country = ax.get_xticklabels()[i - (hue_index * n_countries)].get_text()\n",
    "\n",
    "        new_height = patch.get_height() / country_inhabitants_map[country]\n",
    "        max_y = max(max_y, new_height)\n",
    "        patch.set_height(new_height)\n",
    "\n",
    "    plt.gca().set_ylim([0, max_y + (max_y / 20)])\n",
    "\n",
    "    plt.savefig(f'../plots/general_country_counts/popular_countries_count_by_{hue}_normalized.png', dpi=300)"
   ]
  },
  {
   "cell_type": "code",
   "execution_count": null,
   "metadata": {
    "pycharm": {
     "name": "#%%\n"
    }
   },
   "outputs": [],
   "source": [
    "# Plot distribution of countries appearing less than 1,000 times\n",
    "for hue in ['dataclass', 'mol_type', 'keywords', 'gender']:\n",
    "    fig, ax = plt.subplots(figsize=(36, 18))\n",
    "    sns.countplot(data=rare_countries,\n",
    "                  x='country',\n",
    "                  hue=hue,\n",
    "                  order=rare_countries['country'].value_counts().index)\n",
    "\n",
    "    fig.suptitle('Distribution of Countries with < 1,000 Samples', fontsize=22)\n",
    "    plt.xlabel('Country', fontsize=18)\n",
    "    plt.ylabel('Count Normalized by Number of Inhabitants', fontsize=18)\n",
    "    plt.xticks(fontsize=14, rotation=90)\n",
    "    plt.yticks(fontsize=14)\n",
    "    plt.legend(loc='upper right', title=f'{hue.capitalize()}:', fontsize=14)\n",
    "    plt.rcParams['legend.title_fontsize'] = 14\n",
    "\n",
    "    # Normalize height of bars with number of inhabitants\n",
    "    max_y = 0\n",
    "    n_countries = len(rare_countries['country'].unique())\n",
    "    hue_index = 0\n",
    "\n",
    "    for i, patch in enumerate(ax.patches):\n",
    "        if i % n_countries == 0 and i != 0:\n",
    "            hue_index += 1\n",
    "        country = ax.get_xticklabels()[i - (hue_index * n_countries)].get_text()\n",
    "\n",
    "        if country == 'Unknown':\n",
    "            new_height = 0.0\n",
    "        else:\n",
    "            new_height = patch.get_height() / country_inhabitants_map[country]\n",
    "\n",
    "        max_y = max(max_y, new_height)\n",
    "        patch.set_height(new_height)\n",
    "    plt.gca().set_ylim([0, max_y + (max_y / 20)])\n",
    "\n",
    "    plt.savefig(f'../plots/general_country_counts/rare_countries_count_by_{hue}_normalized.png', dpi=300)"
   ]
  },
  {
   "cell_type": "markdown",
   "source": [
    "## Investigation of Existing Ages"
   ],
   "metadata": {
    "collapsed": false,
    "pycharm": {
     "name": "#%% md\n"
    }
   }
  },
  {
   "cell_type": "code",
   "execution_count": 174,
   "outputs": [
    {
     "data": {
      "text/plain": "2520583"
     },
     "execution_count": 174,
     "metadata": {},
     "output_type": "execute_result"
    }
   ],
   "source": [
    "import pandas as pd\n",
    "\n",
    "df = pd.read_csv('../data/metadata_EBI_cleaned_and_enriched.csv',\n",
    "                 dtype={'collected_by': object,\n",
    "                        'collection_date': object,\n",
    "                        'culture_collection': object,\n",
    "                        'identified_by': object,\n",
    "                        'isolate': object,\n",
    "                        'isolation_source': object,\n",
    "                        'keywords': object,\n",
    "                        'lab_host': object,\n",
    "                        'location': object,\n",
    "                        'sample_accession': object,\n",
    "                        'strain': object,\n",
    "                        'study_accession': object})\n",
    "\n",
    "original_len = len(df)\n",
    "original_len  # 2,520,583"
   ],
   "metadata": {
    "collapsed": false,
    "pycharm": {
     "name": "#%%\n"
    }
   }
  },
  {
   "cell_type": "code",
   "execution_count": 170,
   "outputs": [
    {
     "data": {
      "text/plain": "9948"
     },
     "execution_count": 170,
     "metadata": {},
     "output_type": "execute_result"
    }
   ],
   "source": [
    "# Count how many samples do not contain (valuable) information about age\n",
    "df_with_ages = df[df['age'].notna()]\n",
    "len(df_with_ages)  # 9,948"
   ],
   "metadata": {
    "collapsed": false,
    "pycharm": {
     "name": "#%%\n"
    }
   }
  },
  {
   "cell_type": "code",
   "execution_count": 123,
   "outputs": [
    {
     "data": {
      "text/plain": "          age                                host\n993150   0.67     Homo sapiens; Male age 8 months\n993264   0.33   Homo sapiens; Female age 4 months\n993296   0.25     Homo sapiens; Male age 3 months\n993677   0.14      Homo sapiens; Male age 50 days\n993775   0.08   Homo sapiens; Female age 1 months\n993802   0.83  Homo sapiens; Female age 10 months\n993970   0.92  Homo sapiens; Female age 11 months\n994025   0.58   Homo sapiens; Female age 7 months\n994601   0.92  Homo sapiens; Female age 11 months\n994679   0.42   Homo sapiens; Female age 5 months\n994681    0.5     Homo sapiens; Male age 6 months\n994890   0.67   Homo sapiens; Female age 8 months\n994918   0.17     Homo sapiens; Male age 2 months\n994919   0.58     Homo sapiens; Male age 7 months\n995028   0.58   Homo sapiens; Female age 7 months\n995042    0.5     Homo sapiens; Male age 6 months\n1334892  0.67              Homo sapiens; age 8MOS\n1334903  1.92            Homo sapiens; age 23 MOS\n1335000   0.0             Homo sapiens; age 1 day\n1335356  0.83            Homo sapiens; age 10 mos\n1335383  0.07           Homo sapiens; age 25 days\n1335439  0.25             Homo sapiens; age 3 mos\n1335765   0.0             Homo sapiens; age 1 day\n1335776  0.75             Homo sapiens; age 9 mos",
      "text/html": "<div>\n<style scoped>\n    .dataframe tbody tr th:only-of-type {\n        vertical-align: middle;\n    }\n\n    .dataframe tbody tr th {\n        vertical-align: top;\n    }\n\n    .dataframe thead th {\n        text-align: right;\n    }\n</style>\n<table border=\"1\" class=\"dataframe\">\n  <thead>\n    <tr style=\"text-align: right;\">\n      <th></th>\n      <th>age</th>\n      <th>host</th>\n    </tr>\n  </thead>\n  <tbody>\n    <tr>\n      <th>993150</th>\n      <td>0.67</td>\n      <td>Homo sapiens; Male age 8 months</td>\n    </tr>\n    <tr>\n      <th>993264</th>\n      <td>0.33</td>\n      <td>Homo sapiens; Female age 4 months</td>\n    </tr>\n    <tr>\n      <th>993296</th>\n      <td>0.25</td>\n      <td>Homo sapiens; Male age 3 months</td>\n    </tr>\n    <tr>\n      <th>993677</th>\n      <td>0.14</td>\n      <td>Homo sapiens; Male age 50 days</td>\n    </tr>\n    <tr>\n      <th>993775</th>\n      <td>0.08</td>\n      <td>Homo sapiens; Female age 1 months</td>\n    </tr>\n    <tr>\n      <th>993802</th>\n      <td>0.83</td>\n      <td>Homo sapiens; Female age 10 months</td>\n    </tr>\n    <tr>\n      <th>993970</th>\n      <td>0.92</td>\n      <td>Homo sapiens; Female age 11 months</td>\n    </tr>\n    <tr>\n      <th>994025</th>\n      <td>0.58</td>\n      <td>Homo sapiens; Female age 7 months</td>\n    </tr>\n    <tr>\n      <th>994601</th>\n      <td>0.92</td>\n      <td>Homo sapiens; Female age 11 months</td>\n    </tr>\n    <tr>\n      <th>994679</th>\n      <td>0.42</td>\n      <td>Homo sapiens; Female age 5 months</td>\n    </tr>\n    <tr>\n      <th>994681</th>\n      <td>0.5</td>\n      <td>Homo sapiens; Male age 6 months</td>\n    </tr>\n    <tr>\n      <th>994890</th>\n      <td>0.67</td>\n      <td>Homo sapiens; Female age 8 months</td>\n    </tr>\n    <tr>\n      <th>994918</th>\n      <td>0.17</td>\n      <td>Homo sapiens; Male age 2 months</td>\n    </tr>\n    <tr>\n      <th>994919</th>\n      <td>0.58</td>\n      <td>Homo sapiens; Male age 7 months</td>\n    </tr>\n    <tr>\n      <th>995028</th>\n      <td>0.58</td>\n      <td>Homo sapiens; Female age 7 months</td>\n    </tr>\n    <tr>\n      <th>995042</th>\n      <td>0.5</td>\n      <td>Homo sapiens; Male age 6 months</td>\n    </tr>\n    <tr>\n      <th>1334892</th>\n      <td>0.67</td>\n      <td>Homo sapiens; age 8MOS</td>\n    </tr>\n    <tr>\n      <th>1334903</th>\n      <td>1.92</td>\n      <td>Homo sapiens; age 23 MOS</td>\n    </tr>\n    <tr>\n      <th>1335000</th>\n      <td>0.0</td>\n      <td>Homo sapiens; age 1 day</td>\n    </tr>\n    <tr>\n      <th>1335356</th>\n      <td>0.83</td>\n      <td>Homo sapiens; age 10 mos</td>\n    </tr>\n    <tr>\n      <th>1335383</th>\n      <td>0.07</td>\n      <td>Homo sapiens; age 25 days</td>\n    </tr>\n    <tr>\n      <th>1335439</th>\n      <td>0.25</td>\n      <td>Homo sapiens; age 3 mos</td>\n    </tr>\n    <tr>\n      <th>1335765</th>\n      <td>0.0</td>\n      <td>Homo sapiens; age 1 day</td>\n    </tr>\n    <tr>\n      <th>1335776</th>\n      <td>0.75</td>\n      <td>Homo sapiens; age 9 mos</td>\n    </tr>\n  </tbody>\n</table>\n</div>"
     },
     "execution_count": 123,
     "metadata": {},
     "output_type": "execute_result"
    }
   ],
   "source": [
    "df_with_ages[df_with_ages['host'].str.contains('day|months|mos|MOS')][['age', 'host']]"
   ],
   "metadata": {
    "collapsed": false,
    "pycharm": {
     "name": "#%%\n"
    }
   }
  },
  {
   "cell_type": "code",
   "execution_count": 140,
   "outputs": [
    {
     "data": {
      "text/plain": "         age                  host\n460      nan  Homo sapiens, female\n461      nan    Homo sapiens, male\n462      nan    Homo sapiens, male\n463      nan  Homo sapiens, female\n464      nan    Homo sapiens, male\n...      ...                   ...\n2242394  nan                   NaN\n2252312  nan                   NaN\n2474640  nan          not provided\n2496096  nan          not provided\n2498810  nan           Felis catus\n\n[4773 rows x 2 columns]",
      "text/html": "<div>\n<style scoped>\n    .dataframe tbody tr th:only-of-type {\n        vertical-align: middle;\n    }\n\n    .dataframe tbody tr th {\n        vertical-align: top;\n    }\n\n    .dataframe thead th {\n        text-align: right;\n    }\n</style>\n<table border=\"1\" class=\"dataframe\">\n  <thead>\n    <tr style=\"text-align: right;\">\n      <th></th>\n      <th>age</th>\n      <th>host</th>\n    </tr>\n  </thead>\n  <tbody>\n    <tr>\n      <th>460</th>\n      <td>nan</td>\n      <td>Homo sapiens, female</td>\n    </tr>\n    <tr>\n      <th>461</th>\n      <td>nan</td>\n      <td>Homo sapiens, male</td>\n    </tr>\n    <tr>\n      <th>462</th>\n      <td>nan</td>\n      <td>Homo sapiens, male</td>\n    </tr>\n    <tr>\n      <th>463</th>\n      <td>nan</td>\n      <td>Homo sapiens, female</td>\n    </tr>\n    <tr>\n      <th>464</th>\n      <td>nan</td>\n      <td>Homo sapiens, male</td>\n    </tr>\n    <tr>\n      <th>...</th>\n      <td>...</td>\n      <td>...</td>\n    </tr>\n    <tr>\n      <th>2242394</th>\n      <td>nan</td>\n      <td>NaN</td>\n    </tr>\n    <tr>\n      <th>2252312</th>\n      <td>nan</td>\n      <td>NaN</td>\n    </tr>\n    <tr>\n      <th>2474640</th>\n      <td>nan</td>\n      <td>not provided</td>\n    </tr>\n    <tr>\n      <th>2496096</th>\n      <td>nan</td>\n      <td>not provided</td>\n    </tr>\n    <tr>\n      <th>2498810</th>\n      <td>nan</td>\n      <td>Felis catus</td>\n    </tr>\n  </tbody>\n</table>\n<p>4773 rows × 2 columns</p>\n</div>"
     },
     "execution_count": 140,
     "metadata": {},
     "output_type": "execute_result"
    }
   ],
   "source": [
    "# Check how host is set if age in not numeric (for debugging and to finally check all set ages)\n",
    "df['age'] = df['age'].astype(str)\n",
    "non_numeric_ages = df[df['age'].apply(lambda x: not x.isnumeric())]\n",
    "non_numeric_ages[non_numeric_ages['host'].str.lower() != 'homo sapiens'][['age', 'host']]"
   ],
   "metadata": {
    "collapsed": false,
    "pycharm": {
     "name": "#%%\n"
    }
   }
  },
  {
   "cell_type": "code",
   "execution_count": null,
   "outputs": [],
   "source": [
    "# Exchange ages under zero with zero (for better interpretability of following plot) and convert ages to integers again\n",
    "df_with_ages['age'] = df_with_ages['age'].astype(float)\n",
    "df_with_ages.loc[df_with_ages['age'] <= 0.0, 'age'] = 0.0\n",
    "df_with_ages['age'] = df_with_ages['age'].astype(int)"
   ],
   "metadata": {
    "collapsed": false,
    "pycharm": {
     "name": "#%%\n",
     "is_executing": true
    }
   }
  },
  {
   "cell_type": "code",
   "execution_count": 172,
   "outputs": [
    {
     "data": {
      "text/plain": "<Figure size 1728x864 with 1 Axes>",
      "image/png": "[encoded data removed]"
     },
     "metadata": {},
     "output_type": "display_data"
    }
   ],
   "source": [
    "import matplotlib.pyplot as plt\n",
    "import seaborn as sns\n",
    "\n",
    "plotdata = df_with_ages.sort_values(by=['age'])\n",
    "\n",
    "sns.set_style('whitegrid')\n",
    "fig, ax = plt.subplots(figsize=(24, 12))\n",
    "sns.countplot(data=plotdata,\n",
    "              x='age',\n",
    "              hue='gender')\n",
    "fig.suptitle('Distribution of Existing Ages', fontsize=22)\n",
    "plt.xlabel('Age', fontsize=18)\n",
    "plt.ylabel('Count', fontsize=18)\n",
    "plt.xticks(fontsize=14, rotation=90)\n",
    "plt.yticks(fontsize=14)\n",
    "\n",
    "# Show only every 5th x-tick\n",
    "for i, label in enumerate(ax.get_xticklabels()):\n",
    "    if i % 5 == 0:\n",
    "        label.set_visible(True)\n",
    "    else:\n",
    "        label.set_visible(False)\n",
    "\n",
    "plt.tight_layout()\n",
    "plt.savefig('../plots/age_distribution.png', dpi=300)"
   ],
   "metadata": {
    "collapsed": false,
    "pycharm": {
     "name": "#%%\n"
    }
   }
  },
  {
   "cell_type": "code",
   "execution_count": 173,
   "outputs": [
    {
     "data": {
      "text/plain": "USA               9656\nRussia             265\nItaly               10\nCzech Republic       6\nGermany              5\nChina                5\nPakistan             1\nName: country, dtype: int64"
     },
     "execution_count": 173,
     "metadata": {},
     "output_type": "execute_result"
    }
   ],
   "source": [
    "plotdata['country'].value_counts()\n",
    "# -> plot is similiar to age distribution in USA, especially regarding rise around 20\n",
    "# -> see e.g. https://www.statista.com/statistics/241488/population-of-the-us-by-sex-and-age/\n",
    "# -> a bit more female samples are also quite realistic"
   ],
   "metadata": {
    "collapsed": false,
    "pycharm": {
     "name": "#%%\n"
    }
   }
  }
 ],
 "metadata": {
  "kernelspec": {
   "display_name": "Python 3 (ipykernel)",
   "language": "python",
   "name": "python3"
  },
  "language_info": {
   "codemirror_mode": {
    "name": "ipython",
    "version": 3
   },
   "file_extension": ".py",
   "mimetype": "text/x-python",
   "name": "python",
   "nbconvert_exporter": "python",
   "pygments_lexer": "ipython3",
   "version": "3.7.7"
  }
 },
 "nbformat": 4,
 "nbformat_minor": 1
}